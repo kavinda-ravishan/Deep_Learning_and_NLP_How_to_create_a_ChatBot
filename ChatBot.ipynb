{
 "metadata": {
  "language_info": {
   "codemirror_mode": {
    "name": "ipython",
    "version": 3
   },
   "file_extension": ".py",
   "mimetype": "text/x-python",
   "name": "python",
   "nbconvert_exporter": "python",
   "pygments_lexer": "ipython3",
   "version": "3.5.5"
  },
  "orig_nbformat": 4,
  "kernelspec": {
   "name": "python3",
   "display_name": "Python 3.5.5 64-bit ('chatbot': conda)"
  },
  "interpreter": {
   "hash": "d7e586cc4ff604ab342ee69402a1e04c4c2c6e9617a1b2586b3149cbd633dc02"
  }
 },
 "nbformat": 4,
 "nbformat_minor": 2,
 "cells": [
  {
   "source": [
    "## Importing the libraries"
   ],
   "cell_type": "markdown",
   "metadata": {}
  },
  {
   "cell_type": "code",
   "execution_count": 1,
   "metadata": {},
   "outputs": [],
   "source": [
    "import numpy as np\n",
    "import tensorflow as tf\n",
    "import re\n",
    "import time"
   ]
  },
  {
   "cell_type": "code",
   "execution_count": 2,
   "metadata": {},
   "outputs": [
    {
     "output_type": "execute_result",
     "data": {
      "text/plain": [
       "'1.0.0'"
      ]
     },
     "metadata": {},
     "execution_count": 2
    }
   ],
   "source": [
    "tf.__version__"
   ]
  },
  {
   "source": [
    "## Importing the dataset"
   ],
   "cell_type": "markdown",
   "metadata": {}
  },
  {
   "cell_type": "code",
   "execution_count": 3,
   "metadata": {},
   "outputs": [],
   "source": [
    "lines = open('dataset/movie_lines.txt', encoding='utf-8', errors='ignore').read().split('\\n')\n",
    "conversations = open('dataset/movie_conversations.txt', encoding='utf-8', errors='ignore').read().split('\\n')"
   ]
  },
  {
   "source": [
    "## Create a dictionary that maps each lines and its id"
   ],
   "cell_type": "markdown",
   "metadata": {}
  },
  {
   "cell_type": "code",
   "execution_count": 4,
   "metadata": {},
   "outputs": [],
   "source": [
    "id2line = {}\n",
    "\n",
    "for line in lines:\n",
    "    _line = line.split(' +++$+++ ') # _line : throwaway variables\n",
    "    if len(_line) == 5:\n",
    "        id2line[_line[0]] = _line[4]"
   ]
  },
  {
   "source": [
    "## Create a list of all the conversation"
   ],
   "cell_type": "markdown",
   "metadata": {}
  },
  {
   "cell_type": "code",
   "execution_count": 5,
   "metadata": {},
   "outputs": [],
   "source": [
    "conversations_ids = []\n",
    "\n",
    "for conversation in conversations[:-1]: # last row of conversations is empty\n",
    "    _conversation = conversation.split(' +++$+++ ')[-1][1:-1].replace(\"'\",\"\").replace(\" \", \"\")\n",
    "    #                                               |     |             |               |______ remove spaces\n",
    "    #                                               |     |             |______________________ remove '\n",
    "    #                                               |     |____________________________________ remove the '[' , ']'\n",
    "    #                                               |__________________________________________ get last element of split (ids)\n",
    "    conversations_ids.append(_conversation.split(','))"
   ]
  },
  {
   "source": [
    "## Get questions and answers"
   ],
   "cell_type": "markdown",
   "metadata": {}
  },
  {
   "cell_type": "code",
   "execution_count": 10,
   "metadata": {},
   "outputs": [],
   "source": [
    "questions = []\n",
    "answers = []\n",
    "\n",
    "for conversation in conversations_ids:\n",
    "    for i in range(len(conversation) -1 ):\n",
    "        questions.append( id2line[conversation[i]] )\n",
    "        answers.append( id2line[conversation[i+1]] )"
   ]
  },
  {
   "cell_type": "code",
   "execution_count": 31,
   "metadata": {},
   "outputs": [],
   "source": [
    "def printQA(questions, answers, startIndex, endIndex):\n",
    "    for i in range(startIndex, endIndex):\n",
    "        print(' Q : ',questions[i],'\\n', 'A : ' ,answers[i], '\\n')"
   ]
  },
  {
   "cell_type": "code",
   "execution_count": 33,
   "metadata": {},
   "outputs": [
    {
     "output_type": "stream",
     "name": "stdout",
     "text": [
      " Q :  Can we make this quick?  Roxanne Korrine and Andrew Barrett are having an incredibly horrendous public break- up on the quad.  Again. \n A :  Well, I thought we'd start with pronunciation, if that's okay with you. \n\n Q :  Well, I thought we'd start with pronunciation, if that's okay with you. \n A :  Not the hacking and gagging and spitting part.  Please. \n\n Q :  Not the hacking and gagging and spitting part.  Please. \n A :  Okay... then how 'bout we try out some French cuisine.  Saturday?  Night? \n\n Q :  You're asking me out.  That's so cute. What's your name again? \n A :  Forget it. \n\n Q :  No, no, it's my fault -- we didn't have a proper introduction --- \n A :  Cameron. \n\n Q :  Cameron. \n A :  The thing is, Cameron -- I'm at the mercy of a particularly hideous breed of loser.  My sister.  I can't date until she does. \n\n Q :  The thing is, Cameron -- I'm at the mercy of a particularly hideous breed of loser.  My sister.  I can't date until she does. \n A :  Seems like she could get a date easy enough... \n\n Q :  Why? \n A :  Unsolved mystery.  She used to be really popular when she started high school, then it was just like she got sick of it or something. \n\n Q :  Unsolved mystery.  She used to be really popular when she started high school, then it was just like she got sick of it or something. \n A :  That's a shame. \n\n Q :  Gosh, if only we could find Kat a boyfriend... \n A :  Let me see what I can do. \n\n"
     ]
    }
   ],
   "source": [
    "printQA(questions, answers, 0, 10)"
   ]
  },
  {
   "source": [
    "## Cleaning the text"
   ],
   "cell_type": "markdown",
   "metadata": {}
  },
  {
   "cell_type": "code",
   "execution_count": 34,
   "metadata": {},
   "outputs": [],
   "source": [
    "def cleanText(text):\n",
    "    text = text.lower()\n",
    "    text = re.sub(r\"i'm\", \"i am\", text)\n",
    "    text = re.sub(r\"he's\", \"he is\", text)\n",
    "    text = re.sub(r\"she's\", \"she is\", text)\n",
    "    text = re.sub(r\"that's\", \"that is\", text)\n",
    "    text = re.sub(r\"what's\", \"what is\", text)\n",
    "    text = re.sub(r\"\\'ll\", \" will\", text)\n",
    "    text = re.sub(r\"\\'ve\", \" have\", text)\n",
    "    text = re.sub(r\"\\'d\", \" would\", text)\n",
    "    text = re.sub(r\"won't\", \"will not\", text)\n",
    "    text = re.sub(r\"[-()\\\"#/@;:<>{}+=~|.?,]\", \"\", text)\n",
    "    return text"
   ]
  },
  {
   "cell_type": "code",
   "execution_count": 35,
   "metadata": {},
   "outputs": [],
   "source": [
    "clean_questions = []\n",
    "for question in questions:\n",
    "    clean_questions.append(cleanText(question))"
   ]
  },
  {
   "cell_type": "code",
   "execution_count": 36,
   "metadata": {},
   "outputs": [],
   "source": [
    "clean_answers = []\n",
    "for answer in answers:\n",
    "    clean_answers.append(cleanText(answer))"
   ]
  },
  {
   "cell_type": "code",
   "execution_count": 40,
   "metadata": {},
   "outputs": [
    {
     "output_type": "stream",
     "name": "stdout",
     "text": [
      " Q :  can we make this quick  roxanne korrine and andrew barrett are having an incredibly horrendous public break up on the quad  again \n A :  well i thought we would start with pronunciation if that is okay with you \n\n Q :  well i thought we would start with pronunciation if that is okay with you \n A :  not the hacking and gagging and spitting part  please \n\n Q :  not the hacking and gagging and spitting part  please \n A :  okay then how 'bout we try out some french cuisine  saturday  night \n\n Q :  you're asking me out  that is so cute what is your name again \n A :  forget it \n\n Q :  no no it's my fault  we didn't have a proper introduction  \n A :  cameron \n\n Q :  cameron \n A :  the thing is cameron  i am at the mercy of a particularly hideous breed of loser  my sister  i can't date until she does \n\n Q :  the thing is cameron  i am at the mercy of a particularly hideous breed of loser  my sister  i can't date until she does \n A :  seems like she could get a date easy enough \n\n Q :  why \n A :  unsolved mystery  she used to be really popular when she started high school then it was just like she got sick of it or something \n\n Q :  unsolved mystery  she used to be really popular when she started high school then it was just like she got sick of it or something \n A :  that is a shame \n\n Q :  gosh if only we could find kat a boyfriend \n A :  let me see what i can do \n\n"
     ]
    }
   ],
   "source": [
    "printQA(clean_questions, clean_answers, 0, 10)"
   ]
  },
  {
   "source": [
    "## Vectorize words"
   ],
   "cell_type": "markdown",
   "metadata": {}
  },
  {
   "cell_type": "code",
   "execution_count": 41,
   "metadata": {},
   "outputs": [],
   "source": [
    "word2count = {}\n",
    "\n",
    "for question in clean_questions:\n",
    "    for word in question.split():\n",
    "        if word not in word2count:\n",
    "            word2count[word] = 1\n",
    "        else:\n",
    "            word2count[word] += 1\n",
    "\n",
    "for answer in clean_answers:\n",
    "    for word in answer.split():\n",
    "        if word not in word2count:\n",
    "            word2count[word] = 1\n",
    "        else:\n",
    "            word2count[word] += 1"
   ]
  },
  {
   "source": [
    "### Give uniqu int to word and remove non frequent words"
   ],
   "cell_type": "markdown",
   "metadata": {}
  },
  {
   "cell_type": "code",
   "execution_count": 49,
   "metadata": {},
   "outputs": [],
   "source": [
    "threshold = 20\n",
    "\n",
    "questionsWords2int = {}\n",
    "\n",
    "word_num = 0\n",
    "for word, count in word2count.items():\n",
    "    if count >= threshold:\n",
    "        questionsWords2int[word] = word_num\n",
    "        word_num += 1\n",
    "\n",
    "answersWords2int = {}\n",
    "\n",
    "word_num = 0\n",
    "for word, count in word2count.items():\n",
    "    if count >= threshold:\n",
    "        answersWords2int[word] = word_num\n",
    "        word_num += 1"
   ]
  },
  {
   "source": [
    "### Adding last two tokens to these two dictionaries"
   ],
   "cell_type": "markdown",
   "metadata": {}
  },
  {
   "cell_type": "code",
   "execution_count": 54,
   "metadata": {},
   "outputs": [],
   "source": [
    "tokens = ['<PAD>', '<EOS>', '<OUT>', '<SOS>'] \n",
    "# SOS : start of string\n",
    "# EOS : end of string\n",
    "# OUT : lest frequent words\n",
    "# PAD : padding to make same length\n",
    "\n",
    "for token in tokens:\n",
    "    questionsWords2int[token] = len(questionsWords2int) + 1\n",
    "\n",
    "for token in tokens:\n",
    "    answersWords2int[token] = len(answersWords2int) + 1"
   ]
  },
  {
   "cell_type": "code",
   "execution_count": null,
   "metadata": {},
   "outputs": [],
   "source": []
  }
 ]
}