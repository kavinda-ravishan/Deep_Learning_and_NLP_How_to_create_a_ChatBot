{
 "metadata": {
  "language_info": {
   "codemirror_mode": {
    "name": "ipython",
    "version": 3
   },
   "file_extension": ".py",
   "mimetype": "text/x-python",
   "name": "python",
   "nbconvert_exporter": "python",
   "pygments_lexer": "ipython3",
   "version": "3.5.5"
  },
  "orig_nbformat": 4,
  "kernelspec": {
   "name": "python3",
   "display_name": "Python 3.5.5 64-bit ('chatbot': conda)"
  },
  "interpreter": {
   "hash": "d7e586cc4ff604ab342ee69402a1e04c4c2c6e9617a1b2586b3149cbd633dc02"
  }
 },
 "nbformat": 4,
 "nbformat_minor": 2,
 "cells": [
  {
   "source": [
    "# Part - 1 ( Data Preprocessing )"
   ],
   "cell_type": "markdown",
   "metadata": {}
  },
  {
   "source": [
    "## Importing the libraries"
   ],
   "cell_type": "markdown",
   "metadata": {}
  },
  {
   "cell_type": "code",
   "execution_count": 1,
   "metadata": {},
   "outputs": [],
   "source": [
    "import numpy as np\n",
    "import tensorflow as tf\n",
    "import re\n",
    "import time"
   ]
  },
  {
   "cell_type": "code",
   "execution_count": 2,
   "metadata": {},
   "outputs": [
    {
     "output_type": "execute_result",
     "data": {
      "text/plain": [
       "'1.0.0'"
      ]
     },
     "metadata": {},
     "execution_count": 2
    }
   ],
   "source": [
    "tf.__version__"
   ]
  },
  {
   "source": [
    "## Importing the dataset"
   ],
   "cell_type": "markdown",
   "metadata": {}
  },
  {
   "cell_type": "code",
   "execution_count": 3,
   "metadata": {},
   "outputs": [],
   "source": [
    "lines = open('dataset/movie_lines.txt', encoding='utf-8', errors='ignore').read().split('\\n')\n",
    "conversations = open('dataset/movie_conversations.txt', encoding='utf-8', errors='ignore').read().split('\\n')"
   ]
  },
  {
   "source": [
    "## Create a dictionary that maps each lines and its id"
   ],
   "cell_type": "markdown",
   "metadata": {}
  },
  {
   "cell_type": "code",
   "execution_count": 4,
   "metadata": {},
   "outputs": [],
   "source": [
    "id2line = {}\n",
    "\n",
    "for line in lines:\n",
    "    _line = line.split(' +++$+++ ') # _line : throwaway variables\n",
    "    if len(_line) == 5:\n",
    "        id2line[_line[0]] = _line[4]"
   ]
  },
  {
   "source": [
    "## Create a list of all the conversation"
   ],
   "cell_type": "markdown",
   "metadata": {}
  },
  {
   "cell_type": "code",
   "execution_count": 5,
   "metadata": {},
   "outputs": [],
   "source": [
    "conversations_ids = []\n",
    "\n",
    "for conversation in conversations[:-1]: # last row of conversations is empty\n",
    "    _conversation = conversation.split(' +++$+++ ')[-1][1:-1].replace(\"'\",\"\").replace(\" \", \"\")\n",
    "    #                                               |     |             |               |______ remove spaces\n",
    "    #                                               |     |             |______________________ remove '\n",
    "    #                                               |     |____________________________________ remove the '[' , ']'\n",
    "    #                                               |__________________________________________ get last element of split (ids)\n",
    "    conversations_ids.append(_conversation.split(','))"
   ]
  },
  {
   "source": [
    "## Get questions and answers"
   ],
   "cell_type": "markdown",
   "metadata": {}
  },
  {
   "cell_type": "code",
   "execution_count": 6,
   "metadata": {},
   "outputs": [],
   "source": [
    "questions = []\n",
    "answers = []\n",
    "\n",
    "for conversation in conversations_ids:\n",
    "    for i in range(len(conversation) -1 ):\n",
    "        questions.append( id2line[conversation[i]] )\n",
    "        answers.append( id2line[conversation[i+1]] )"
   ]
  },
  {
   "cell_type": "code",
   "execution_count": 7,
   "metadata": {},
   "outputs": [],
   "source": [
    "def printQA(questions, answers, startIndex, endIndex):\n",
    "    for i in range(startIndex, endIndex):\n",
    "        print(' Q : ',questions[i],'\\n', 'A : ' ,answers[i], '\\n')"
   ]
  },
  {
   "cell_type": "code",
   "execution_count": 8,
   "metadata": {},
   "outputs": [
    {
     "output_type": "stream",
     "name": "stdout",
     "text": [
      " Q :  Can we make this quick?  Roxanne Korrine and Andrew Barrett are having an incredibly horrendous public break- up on the quad.  Again. \n A :  Well, I thought we'd start with pronunciation, if that's okay with you. \n\n Q :  Well, I thought we'd start with pronunciation, if that's okay with you. \n A :  Not the hacking and gagging and spitting part.  Please. \n\n Q :  Not the hacking and gagging and spitting part.  Please. \n A :  Okay... then how 'bout we try out some French cuisine.  Saturday?  Night? \n\n Q :  You're asking me out.  That's so cute. What's your name again? \n A :  Forget it. \n\n Q :  No, no, it's my fault -- we didn't have a proper introduction --- \n A :  Cameron. \n\n Q :  Cameron. \n A :  The thing is, Cameron -- I'm at the mercy of a particularly hideous breed of loser.  My sister.  I can't date until she does. \n\n Q :  The thing is, Cameron -- I'm at the mercy of a particularly hideous breed of loser.  My sister.  I can't date until she does. \n A :  Seems like she could get a date easy enough... \n\n Q :  Why? \n A :  Unsolved mystery.  She used to be really popular when she started high school, then it was just like she got sick of it or something. \n\n Q :  Unsolved mystery.  She used to be really popular when she started high school, then it was just like she got sick of it or something. \n A :  That's a shame. \n\n Q :  Gosh, if only we could find Kat a boyfriend... \n A :  Let me see what I can do. \n\n"
     ]
    }
   ],
   "source": [
    "printQA(questions, answers, 0, 10)"
   ]
  },
  {
   "source": [
    "## Cleaning the text"
   ],
   "cell_type": "markdown",
   "metadata": {}
  },
  {
   "cell_type": "code",
   "execution_count": 9,
   "metadata": {},
   "outputs": [],
   "source": [
    "def cleanText(text):\n",
    "    text = text.lower()\n",
    "    text = re.sub(r\"i'm\", \"i am\", text)\n",
    "    text = re.sub(r\"he's\", \"he is\", text)\n",
    "    text = re.sub(r\"she's\", \"she is\", text)\n",
    "    text = re.sub(r\"that's\", \"that is\", text)\n",
    "    text = re.sub(r\"what's\", \"what is\", text)\n",
    "    text = re.sub(r\"\\'ll\", \" will\", text)\n",
    "    text = re.sub(r\"\\'ve\", \" have\", text)\n",
    "    text = re.sub(r\"\\'d\", \" would\", text)\n",
    "    text = re.sub(r\"won't\", \"will not\", text)\n",
    "    text = re.sub(r\"[-()\\\"#/@;:<>{}+=~|.?,]\", \"\", text)\n",
    "    return text"
   ]
  },
  {
   "cell_type": "code",
   "execution_count": 10,
   "metadata": {},
   "outputs": [],
   "source": [
    "clean_questions = []\n",
    "for question in questions:\n",
    "    clean_questions.append(cleanText(question))"
   ]
  },
  {
   "cell_type": "code",
   "execution_count": 11,
   "metadata": {},
   "outputs": [],
   "source": [
    "clean_answers = []\n",
    "for answer in answers:\n",
    "    clean_answers.append(cleanText(answer))"
   ]
  },
  {
   "cell_type": "code",
   "execution_count": 12,
   "metadata": {},
   "outputs": [
    {
     "output_type": "stream",
     "name": "stdout",
     "text": [
      " Q :  can we make this quick  roxanne korrine and andrew barrett are having an incredibly horrendous public break up on the quad  again \n A :  well i thought we would start with pronunciation if that is okay with you \n\n Q :  well i thought we would start with pronunciation if that is okay with you \n A :  not the hacking and gagging and spitting part  please \n\n Q :  not the hacking and gagging and spitting part  please \n A :  okay then how 'bout we try out some french cuisine  saturday  night \n\n Q :  you're asking me out  that is so cute what is your name again \n A :  forget it \n\n Q :  no no it's my fault  we didn't have a proper introduction  \n A :  cameron \n\n Q :  cameron \n A :  the thing is cameron  i am at the mercy of a particularly hideous breed of loser  my sister  i can't date until she does \n\n Q :  the thing is cameron  i am at the mercy of a particularly hideous breed of loser  my sister  i can't date until she does \n A :  seems like she could get a date easy enough \n\n Q :  why \n A :  unsolved mystery  she used to be really popular when she started high school then it was just like she got sick of it or something \n\n Q :  unsolved mystery  she used to be really popular when she started high school then it was just like she got sick of it or something \n A :  that is a shame \n\n Q :  gosh if only we could find kat a boyfriend \n A :  let me see what i can do \n\n"
     ]
    }
   ],
   "source": [
    "printQA(clean_questions, clean_answers, 0, 10)"
   ]
  },
  {
   "source": [
    "## Vectorize words"
   ],
   "cell_type": "markdown",
   "metadata": {}
  },
  {
   "cell_type": "code",
   "execution_count": 13,
   "metadata": {},
   "outputs": [],
   "source": [
    "word2count = {}\n",
    "\n",
    "for question in clean_questions:\n",
    "    for word in question.split():\n",
    "        if word not in word2count:\n",
    "            word2count[word] = 1\n",
    "        else:\n",
    "            word2count[word] += 1\n",
    "\n",
    "for answer in clean_answers:\n",
    "    for word in answer.split():\n",
    "        if word not in word2count:\n",
    "            word2count[word] = 1\n",
    "        else:\n",
    "            word2count[word] += 1"
   ]
  },
  {
   "source": [
    "### Give uniqu int to word and remove non frequent words"
   ],
   "cell_type": "markdown",
   "metadata": {}
  },
  {
   "cell_type": "code",
   "execution_count": 14,
   "metadata": {},
   "outputs": [],
   "source": [
    "threshold = 20\n",
    "\n",
    "questionsWords2ints = {}\n",
    "\n",
    "word_num = 0\n",
    "for word, count in word2count.items():\n",
    "    if count >= threshold:\n",
    "        questionsWords2ints[word] = word_num\n",
    "        word_num += 1\n",
    "\n",
    "answersWords2ints = {}\n",
    "\n",
    "word_num = 0\n",
    "for word, count in word2count.items():\n",
    "    if count >= threshold:\n",
    "        answersWords2ints[word] = word_num\n",
    "        word_num += 1"
   ]
  },
  {
   "source": [
    "### Adding last two tokens to these two dictionaries"
   ],
   "cell_type": "markdown",
   "metadata": {}
  },
  {
   "cell_type": "code",
   "execution_count": 15,
   "metadata": {},
   "outputs": [],
   "source": [
    "tokens = ['<PAD>', '<EOS>', '<OUT>', '<SOS>'] \n",
    "# SOS : start of string\n",
    "# EOS : end of string\n",
    "# OUT : lest frequent words\n",
    "# PAD : padding to make same length\n",
    "\n",
    "for token in tokens:\n",
    "    questionsWords2ints[token] = len(questionsWords2ints) + 1\n",
    "\n",
    "for token in tokens:\n",
    "    answersWords2ints[token] = len(answersWords2ints) + 1"
   ]
  },
  {
   "source": [
    "### Create the inverse dictionary of answersWords2int"
   ],
   "cell_type": "markdown",
   "metadata": {}
  },
  {
   "cell_type": "code",
   "execution_count": 16,
   "metadata": {},
   "outputs": [],
   "source": [
    "answersInts2Words = {w_i : w for w, w_i in answersWords2ints.items()}"
   ]
  },
  {
   "cell_type": "code",
   "execution_count": 17,
   "metadata": {},
   "outputs": [
    {
     "output_type": "stream",
     "name": "stdout",
     "text": [
      "conscious 7735\npowell 7782\nover! 8553\nwhile 3332\nsoze 5581\n"
     ]
    }
   ],
   "source": [
    "i = 0\n",
    "for w, w_i in answersWords2ints.items():\n",
    "    print(w, w_i)\n",
    "    i += 1\n",
    "    if i == 5:\n",
    "        break"
   ]
  },
  {
   "cell_type": "code",
   "execution_count": 18,
   "metadata": {
    "tags": []
   },
   "outputs": [
    {
     "output_type": "stream",
     "name": "stdout",
     "text": [
      "0 hero\n1 haircut\n2 giant\n3 insane!\n4 will\n"
     ]
    }
   ],
   "source": [
    "i = 0\n",
    "for w_i, w in answersInts2Words.items():\n",
    "    print(w_i,w)\n",
    "    i += 1\n",
    "    if i == 5:\n",
    "        break"
   ]
  },
  {
   "source": [
    "### Add EOS token to the end of every answer"
   ],
   "cell_type": "markdown",
   "metadata": {}
  },
  {
   "cell_type": "code",
   "execution_count": 19,
   "metadata": {},
   "outputs": [],
   "source": [
    "for i in range(len(clean_answers)):\n",
    "    clean_answers[i] += ' <EOS>'"
   ]
  },
  {
   "cell_type": "code",
   "execution_count": 20,
   "metadata": {},
   "outputs": [
    {
     "output_type": "stream",
     "name": "stdout",
     "text": [
      " Q :  can we make this quick  roxanne korrine and andrew barrett are having an incredibly horrendous public break up on the quad  again \n A :  well i thought we would start with pronunciation if that is okay with you <EOS> \n\n"
     ]
    }
   ],
   "source": [
    "printQA(clean_questions, clean_answers, 0, 1)"
   ]
  },
  {
   "source": [
    "### Translate all the questions and answers into integers\n",
    "### Replace all the filtered words by <OUT>"
   ],
   "cell_type": "markdown",
   "metadata": {}
  },
  {
   "cell_type": "code",
   "execution_count": 21,
   "metadata": {},
   "outputs": [],
   "source": [
    "questions_into_int = []\n",
    "\n",
    "for question in clean_questions:\n",
    "    ints = []\n",
    "    for word in question.split():\n",
    "        if word not in questionsWords2ints:\n",
    "            ints.append(questionsWords2ints['<OUT>'])\n",
    "        else:\n",
    "            ints.append(questionsWords2ints[word])\n",
    "    questions_into_int.append(ints)\n",
    "\n",
    "answers_into_int = []\n",
    "\n",
    "for answer in clean_answers:\n",
    "    ints = []\n",
    "    for word in answer.split():\n",
    "        if word not in questionsWords2ints:\n",
    "            ints.append(answersWords2ints['<OUT>'])\n",
    "        else:\n",
    "            ints.append(answersWords2ints[word])\n",
    "    answers_into_int.append(ints)"
   ]
  },
  {
   "source": [
    "## Short questions and answers by length of quections\n",
    "\n",
    "### This speedup training process and helps reduse the loss\n",
    "### Reduse the amount of padding during the training "
   ],
   "cell_type": "markdown",
   "metadata": {}
  },
  {
   "cell_type": "code",
   "execution_count": 22,
   "metadata": {},
   "outputs": [],
   "source": [
    "sorted_clean_quections = []\n",
    "sorted_clean_answers = []\n",
    "\n",
    "for length in range(1, 25 + 1): # upto 25\n",
    "    for i in enumerate(questions_into_int): # i[0] : index, i[1] : quection\n",
    "        if len(i[1]) == length:\n",
    "            sorted_clean_quections.append(questions_into_int[i[0]])\n",
    "            sorted_clean_answers.append(answers_into_int[i[0]])"
   ]
  },
  {
   "source": [
    "# Part - 2 ( Building Seq-2-Seq model )"
   ],
   "cell_type": "markdown",
   "metadata": {}
  },
  {
   "source": [
    "## Creating placeholders for the inputs and the targets"
   ],
   "cell_type": "markdown",
   "metadata": {}
  },
  {
   "cell_type": "code",
   "execution_count": 23,
   "metadata": {},
   "outputs": [],
   "source": [
    "def model_inputs():\n",
    "    inputs = tf.placeholder(tf.int32, shape=[None, None], name='input')\n",
    "    #                                          |_________ Two dimensional matrix\n",
    "    targets = tf.placeholder(tf.int32, shape=[None, None], name='traget')\n",
    "    lr = tf.placeholder(tf.float32, name='learning_rate')\n",
    "    keep_prob = tf.placeholder(tf.float32, name='keep_prob') # control the dropout rate\n",
    "    return inputs, targets, lr, keep_prob"
   ]
  },
  {
   "source": [
    "## Preprocessing the traget\n",
    "\n",
    "### Neural network expect targets with batches (answers)"
   ],
   "cell_type": "markdown",
   "metadata": {}
  },
  {
   "cell_type": "code",
   "execution_count": 24,
   "metadata": {},
   "outputs": [],
   "source": [
    "def preprocess_tragets(targets, word2int, batch_size):\n",
    "    left_side = tf.fill([batch_size, 1], word2int['<SOS>']) # (dims, values, name=None)\n",
    "    right_side = tf.strided_slice(targets, [0,0], [batch_size,-1], strides=[1,1]) # [batch_size,-1] : all lines except the last element\n",
    "    #(input_, begin, end, strides=None, begin_mask=0, end_mask=0, ellipsis_mask=0, new_axis_mask=0, shrink_axis_mask=0, var=None, name=None)\n",
    "    preprocessed_tragets = tf.concat([left_side, right_side], 1) # (values, axis, name='concat')\n",
    "    return preprocessed_tragets"
   ]
  },
  {
   "source": [
    "## Creating the encoder RNN layer"
   ],
   "cell_type": "markdown",
   "metadata": {}
  },
  {
   "cell_type": "code",
   "execution_count": 25,
   "metadata": {},
   "outputs": [],
   "source": [
    "def encoder_rnn(rnn_inputs, rnn_size, num_layers, keep_prob, sequence_length):\n",
    "    lstm = tf.contrib.rnn.BasicLSTMCell(rnn_size)\n",
    "    lstm_dropout = tf.contrib.rnn.DropoutWrapper(lstm, input_keep_prob=keep_prob)\n",
    "    encoder_cell = tf.contrib.rnn.MultiRNNCell([lstm_dropout] * num_layers )\n",
    "#   _ -> encoder output\n",
    "    _, encoder_state = tf.nn.bidirectional_dynamic_rnn(\n",
    "        cell_fw=encoder_cell,\n",
    "        cell_bw=encoder_cell,\n",
    "        sequence_length=sequence_length,\n",
    "        inputs=rnn_inputs,\n",
    "        dtype=tf.float32\n",
    "        ) # Creates a dynamic version of bidirectional recurrent neural network\n",
    "    return encoder_state"
   ]
  },
  {
   "source": [
    "## Decoding the training set"
   ],
   "cell_type": "markdown",
   "metadata": {}
  },
  {
   "cell_type": "code",
   "execution_count": 26,
   "metadata": {},
   "outputs": [],
   "source": [
    "def decode_training_set(\n",
    "    encoder_state, \n",
    "    decoder_cell, \n",
    "    decoder_embedded_input, \n",
    "    sequence_length, \n",
    "    decoding_scope,\n",
    "    output_function,\n",
    "    keep_prob,\n",
    "    batch_size):\n",
    "\n",
    "    attention_states = tf.zeros([batch_size, 1, decoder_cell.output_size])\n",
    "    attention_keys, attention_values, attention_score_function, attention_construct_function = tf.contrib.seq2seq.prepare_attention(\n",
    "        attention_states,\n",
    "        attention_option='bahdanau',\n",
    "        num_units=decoder_cell.output_size\n",
    "    )\n",
    "    training_decoder_function = tf.contrib.seq2seq.attention_decoder_fn_train(\n",
    "        encoder_state[0],\n",
    "        attention_keys,\n",
    "        attention_values,\n",
    "        attention_score_function,\n",
    "        attention_construct_function,\n",
    "        name='attn_dec_train'\n",
    "    )\n",
    "    #               _,   -> decoder final state\n",
    "    #                , _ -> decoder final context state\n",
    "    decoder_output, _, _ = tf.contrib.seq2seq.dynamic_rnn_decoder(\n",
    "        decoder_cell, \n",
    "        training_decoder_function, \n",
    "        decoder_embedded_input, \n",
    "        sequence_length,\n",
    "        scope = decoding_scope,\n",
    "    )\n",
    "    decoder_output_dropout = tf.nn.dropout(decoder_output, keep_prob)\n",
    "    return output_function(decoder_output_dropout)"
   ]
  },
  {
   "source": [
    "## Decoding the test/validation set"
   ],
   "cell_type": "markdown",
   "metadata": {}
  },
  {
   "cell_type": "code",
   "execution_count": 27,
   "metadata": {},
   "outputs": [],
   "source": [
    "def decode_test_set(\n",
    "    encoder_state, \n",
    "    decoder_cell, \n",
    "    decoder_embeddings_matrix,\n",
    "    sos_id,\n",
    "    eos_id,\n",
    "    maxumum_length,\n",
    "    num_words,\n",
    "    sequence_length, \n",
    "    decoding_scope,\n",
    "    output_function,\n",
    "    keep_prob,\n",
    "    batch_size):\n",
    "\n",
    "    attention_states = tf.zeros([batch_size, 1, decoder_cell.output_size])\n",
    "    attention_keys, attention_values, attention_score_function, attention_construct_function = tf.contrib.seq2seq.prepare_attention(\n",
    "        attention_states,\n",
    "        attention_option='bahdanau',\n",
    "        num_units=decoder_cell.output_size\n",
    "    )\n",
    "    test_decoder_function = tf.contrib.seq2seq.attention_decoder_fn_inference(\n",
    "        output_function,\n",
    "        encoder_state[0],\n",
    "        attention_keys,\n",
    "        attention_values,\n",
    "        attention_score_function,\n",
    "        attention_construct_function,\n",
    "        decoder_embeddings_matrix,\n",
    "        sos_id,\n",
    "        eos_id,\n",
    "        maxumum_length,\n",
    "        num_words,\n",
    "        name='attn_dec_inf'\n",
    "    )\n",
    "    #                  ______ decoder final state\n",
    "    #                 |   ___ decoder final context state\n",
    "    #                 |  |\n",
    "    test_predictions, _, _ = tf.contrib.seq2seq.dynamic_rnn_decoder(\n",
    "        decoder_cell, \n",
    "        test_decoder_function, \n",
    "        scope = decoding_scope,\n",
    "    )\n",
    "\n",
    "    return test_predictions"
   ]
  },
  {
   "source": [
    "## Creating the decoder RNN"
   ],
   "cell_type": "markdown",
   "metadata": {}
  },
  {
   "cell_type": "code",
   "execution_count": 28,
   "metadata": {},
   "outputs": [],
   "source": [
    "def decoder_rnn(\n",
    "    decoder_embedded_input,\n",
    "    decoder_embedding_matrix,\n",
    "    encoder_state,\n",
    "    num_words,\n",
    "    sequence_length,\n",
    "    rnn_size,\n",
    "    num_layers,\n",
    "    word2int,\n",
    "    keep_prob,\n",
    "    batch_size\n",
    "    ):\n",
    "\n",
    "    with tf.variable_scope('decoding') as decoding_scope:\n",
    "\n",
    "        lstm = tf.contrib.rnn.BasicLSTMCell(rnn_size)\n",
    "        lstm_dropout = tf.contrib.rnn.DropoutWrapper(lstm, input_keep_prob=keep_prob)\n",
    "        decoder_cell = tf.contrib.rnn.MultiRNNCell([lstm_dropout] * num_layers )\n",
    "        weights = tf.truncated_normal_initializer(stddev=0.1) # stddev : standard deviation\n",
    "        biases = tf.zeros_initializer()\n",
    "        output_function = lambda x: tf.contrib.layers.fully_connected(\n",
    "            x,\n",
    "            num_words,\n",
    "            None,\n",
    "            scope=decoding_scope,\n",
    "            weights_initializer=weights,\n",
    "            biases_initializer=biases\n",
    "            )\n",
    "        training_predictions = decode_training_set(\n",
    "            encoder_state, \n",
    "            decoder_cell, \n",
    "            decoder_embedded_input, \n",
    "            sequence_length, \n",
    "            decoding_scope,\n",
    "            output_function,\n",
    "            keep_prob,\n",
    "            batch_size\n",
    "            )\n",
    "        decoding_scope.reuse_variables()\n",
    "        test_predictions = decode_test_set(\n",
    "            encoder_state, \n",
    "            decoder_cell, \n",
    "            decoder_embedding_matrix, \n",
    "            word2int['<SOS>'], \n",
    "            word2int['<EOS>'], \n",
    "            sequence_length - 1,\n",
    "            num_words, \n",
    "            sequence_length,\n",
    "            decoding_scope,\n",
    "            output_function,\n",
    "            keep_prob, \n",
    "            batch_size\n",
    "            )\n",
    "\n",
    "    return training_predictions, test_predictions"
   ]
  },
  {
   "source": [
    "## Building the seq2seq model"
   ],
   "cell_type": "markdown",
   "metadata": {}
  },
  {
   "cell_type": "code",
   "execution_count": 29,
   "metadata": {},
   "outputs": [],
   "source": [
    "def seq2seq_model(\n",
    "    inputs, \n",
    "    targets, \n",
    "    keep_prob, \n",
    "    batch_size, \n",
    "    sequence_length, \n",
    "    answers_num_words, \n",
    "    quections_num_words, \n",
    "    encoder_embedding_size,\n",
    "    decoder_embedding_size,\n",
    "    rnn_size,\n",
    "    num_layers,\n",
    "    questionsWords2ints):\n",
    "    \n",
    "    encoder_embedded_input = tf.contrib.layers.embed_sequence(\n",
    "        inputs,\n",
    "        answers_num_words + 1,\n",
    "        encoder_embedding_size,\n",
    "        initializer=tf.random_uniform_initializer(0,1)\n",
    "        )\n",
    "    \n",
    "    encoder_state = encoder_rnn(\n",
    "        encoder_embedded_input,\n",
    "        rnn_size,\n",
    "        num_layers,\n",
    "        keep_prob,\n",
    "        sequence_length\n",
    "    )\n",
    "\n",
    "    preprocessed_tragets = preprocess_tragets(targets, questionsWords2ints, batch_size)\n",
    "\n",
    "    decoder_embeddings_matrix = tf.Variable(tf.random_uniform([quections_num_words+1, decoder_embedding_size], 0, 1))\n",
    "\n",
    "    decoder_embedded_input = tf.nn.embedding_lookup(decoder_embeddings_matrix, preprocessed_tragets)\n",
    "\n",
    "    training_predictions, test_predictions = decoder_rnn(\n",
    "        decoder_embedded_input, \n",
    "        decoder_embeddings_matrix, \n",
    "        encoder_state, \n",
    "        quections_num_words, \n",
    "        sequence_length, \n",
    "        rnn_size, \n",
    "        num_layers, \n",
    "        questionsWords2ints, \n",
    "        keep_prob, \n",
    "        batch_size\n",
    "    )\n",
    "\n",
    "    return training_predictions, test_predictions"
   ]
  },
  {
   "source": [
    "# Part - 3 ( Training the seq2seq model )"
   ],
   "cell_type": "markdown",
   "metadata": {}
  },
  {
   "source": [
    "## Settings the hyper parameters"
   ],
   "cell_type": "markdown",
   "metadata": {}
  },
  {
   "cell_type": "code",
   "execution_count": 30,
   "metadata": {},
   "outputs": [],
   "source": [
    "epochs = 1 #100\n",
    "batch_size = 124 #64\n",
    "rnn_size = 512\n",
    "num_layers = 3\n",
    "encodeing_embedding_size = 512\n",
    "decoding_embedding_size = 512\n",
    "learning_rate = 0.01\n",
    "learning_rate_decay = 0.9 # 90%\n",
    "min_learning_rate = 0.0001\n",
    "keep_probability = 0.5"
   ]
  },
  {
   "source": [
    "## Definition a session"
   ],
   "cell_type": "markdown",
   "metadata": {}
  },
  {
   "cell_type": "code",
   "execution_count": 31,
   "metadata": {},
   "outputs": [],
   "source": [
    "tf.reset_default_graph()\n",
    "session = tf.InteractiveSession()"
   ]
  },
  {
   "source": [
    "## Loading the model inputs"
   ],
   "cell_type": "markdown",
   "metadata": {}
  },
  {
   "cell_type": "code",
   "execution_count": 32,
   "metadata": {},
   "outputs": [],
   "source": [
    "inputs, targets, lr, keep_prob = model_inputs()"
   ]
  },
  {
   "source": [
    "## Setting the sequence length "
   ],
   "cell_type": "markdown",
   "metadata": {}
  },
  {
   "cell_type": "code",
   "execution_count": 33,
   "metadata": {},
   "outputs": [],
   "source": [
    "sequence_length = tf.placeholder_with_default(25, None, name='sequence_length')"
   ]
  },
  {
   "source": [
    "## Getting the shape of the inputs tensor"
   ],
   "cell_type": "markdown",
   "metadata": {}
  },
  {
   "cell_type": "code",
   "execution_count": 34,
   "metadata": {},
   "outputs": [],
   "source": [
    "input_shape = tf.shape(inputs)"
   ]
  },
  {
   "source": [
    "## Getting the training and test predictions"
   ],
   "cell_type": "markdown",
   "metadata": {}
  },
  {
   "cell_type": "code",
   "execution_count": 35,
   "metadata": {},
   "outputs": [],
   "source": [
    "training_predictions, test_predictions = seq2seq_model(\n",
    "    tf.reverse(inputs, [-1]),\n",
    "    targets,\n",
    "    keep_prob,\n",
    "    batch_size,\n",
    "    sequence_length,\n",
    "    len(answersWords2ints),\n",
    "    len(questionsWords2ints),\n",
    "    encodeing_embedding_size,\n",
    "    decoding_embedding_size,\n",
    "    rnn_size,\n",
    "    num_layers,\n",
    "    questionsWords2ints\n",
    ")"
   ]
  },
  {
   "source": [
    "## Setting up the loss error, the optimizer and gradient clipping"
   ],
   "cell_type": "markdown",
   "metadata": {}
  },
  {
   "cell_type": "code",
   "execution_count": 36,
   "metadata": {},
   "outputs": [],
   "source": [
    "with tf.name_scope('optimization'):\n",
    "    loss_error = tf.contrib.seq2seq.sequence_loss(\n",
    "        training_predictions,\n",
    "        targets,\n",
    "        tf.ones([input_shape[0], sequence_length])\n",
    "        )\n",
    "    optimizer = tf.train.AdamOptimizer(learning_rate)\n",
    "    gradients = optimizer.compute_gradients(loss_error)\n",
    "    clipped_gradients = [(tf.clip_by_value(grad_tensor, -5.0, 5.0), grad_variable) for grad_tensor, grad_variable in gradients if grad_tensor is not None]\n",
    "    optimizer_gradient_clipping = optimizer.apply_gradients(clipped_gradients)"
   ]
  },
  {
   "source": [
    "## Padding the sequences with <PAD> token"
   ],
   "cell_type": "markdown",
   "metadata": {}
  },
  {
   "cell_type": "code",
   "execution_count": 37,
   "metadata": {},
   "outputs": [],
   "source": [
    "# Q = ['who'  , 'are', 'you', '<PAD>',  '<PAD>', '<PAD>', '<PAD>', '<PAD>']\n",
    "# A = ['<SOS>', 'I'  , 'am ', 'a'    ,  'bot'  , '.'    , '<EOS>', '<PAD>']\n",
    "\n",
    "def apply_padding(batch_of_sequences, word2int):\n",
    "    max_sequence_length = max([len(sequence) for sequence in batch_of_sequences])\n",
    "    return [sequence + [word2int['<PAD>']] * (max_sequence_length-len(sequence)) for sequence in batch_of_sequences]"
   ]
  },
  {
   "source": [
    "## Splitting the data into batches of questions and answers"
   ],
   "cell_type": "markdown",
   "metadata": {}
  },
  {
   "cell_type": "code",
   "execution_count": 38,
   "metadata": {},
   "outputs": [],
   "source": [
    "def split_into_batches(questions, answers, batch_size):\n",
    "    for batch_index in range(0, len(questions) // batch_size): # // : divide and get int\n",
    "        start_index = batch_index * batch_size\n",
    "        questions_in_batch = questions[start_index : start_index+batch_size]\n",
    "        answers_in_batch = answers[start_index : start_index+batch_size]\n",
    "        padded_questions_in_batch = np.array(apply_padding(questions_in_batch, questionsWords2ints))\n",
    "        padded_answers_in_batch = np.array(apply_padding(answers_in_batch, answersWords2ints))\n",
    "        yield padded_questions_in_batch, padded_answers_in_batch"
   ]
  },
  {
   "source": [
    "## Splitting the questions and answers into training and validation sets"
   ],
   "cell_type": "markdown",
   "metadata": {}
  },
  {
   "cell_type": "code",
   "execution_count": 39,
   "metadata": {},
   "outputs": [],
   "source": [
    "training_validation_split = int(len(sorted_clean_quections) * 0.15)\n",
    "\n",
    "training_questions = sorted_clean_quections[training_validation_split:]\n",
    "training_answers = sorted_clean_answers[training_validation_split:]\n",
    "\n",
    "validation_questions = sorted_clean_quections[:training_validation_split]\n",
    "validation_answers = sorted_clean_answers[:training_validation_split]"
   ]
  },
  {
   "source": [
    "## Training"
   ],
   "cell_type": "markdown",
   "metadata": {}
  },
  {
   "cell_type": "code",
   "execution_count": 40,
   "metadata": {},
   "outputs": [],
   "source": [
    "batch_index_check_training_loss = 100\n",
    "batch_index_check_validation_loss = (len(training_questions) // batch_size // 2) - 1\n",
    "total_training_loss_error = 0\n",
    "list_validation_loss_error = []\n",
    "early_stopping_check = 0\n",
    "early_stopping_stop = 1000\n",
    "checkpoint = 'chatbot_weights.ckpt'\n",
    "session.run(tf.global_variables_initializer())"
   ]
  },
  {
   "cell_type": "code",
   "execution_count": 41,
   "metadata": {},
   "outputs": [
    {
     "output_type": "stream",
     "name": "stdout",
     "text": [
      "Epoch:   1/1, Batch:  124/1399, Training Loss Error :  0.090, Training Time On 100 Batches: 4466 seconds\n"
     ]
    }
   ],
   "source": [
    "for epoch in range(1, epochs+1):\n",
    "    for batch_index, (padded_questions_in_batch, padded_answers_in_batch) in enumerate(split_into_batches(training_questions, training_answers, batch_size)):\n",
    "        starting_time = time.time()\n",
    "        _, batch_training_loss_error = session.run(\n",
    "            [optimizer_gradient_clipping, loss_error],\n",
    "            {\n",
    "                inputs : padded_questions_in_batch, \n",
    "                targets : padded_answers_in_batch, \n",
    "                lr : learning_rate,\n",
    "                sequence_length : padded_answers_in_batch.shape[1],\n",
    "                keep_prob : keep_probability\n",
    "                }\n",
    "            )\n",
    "        total_training_loss_error += batch_training_loss_error\n",
    "        ending_time = time.time()\n",
    "        batch_time = ending_time - starting_time\n",
    "\n",
    "        if batch_index % batch_index_check_training_loss == 0:\n",
    "            print('Epoch: {:>3}/{}, Batch: {:>4}/{}, Training Loss Error : {:>6.3f}, Training Time On 100 Batches: {:d} seconds'.format(\n",
    "                epoch,\n",
    "                epochs,\n",
    "                batch_size,\n",
    "                len(training_questions) // batch_size,\n",
    "                total_training_loss_error / batch_index_check_training_loss,\n",
    "                int(batch_time * batch_index_check_training_loss)\n",
    "            ))\n",
    "            total_training_loss_error = 0\n",
    "        \n",
    "        if batch_index % batch_index_check_validation_loss == 0 and batch_index > 0:\n",
    "            total_validation_loss_error = 0\n",
    "            starting_time = timte.time()\n",
    "\n",
    "            for batch_index_validation, (padded_questions_in_batch, padded_answers_in_batch) in enumerate(split_into_batches(validation_questions, validation_answers, batch_size)):\n",
    "                batch_validation_loss_error = session.run(\n",
    "                loss_error,\n",
    "                {\n",
    "                    inputs : padded_questions_in_batch, \n",
    "                    targets : padded_answers_in_batch, \n",
    "                    lr : learning_rate,\n",
    "                    sequence_length : padded_answers_in_batch.shape[1],\n",
    "                    keep_prob : 1\n",
    "                    }\n",
    "                )\n",
    "                total_validation_loss_error += batch_validation_loss_error\n",
    "\n",
    "            ending_time = time.time()\n",
    "            batch_time = ending_time - starting_time\n",
    "\n",
    "            avarage_validation_loss_error = total_validation_loss_error / (len(validation_questions)/batch_size)\n",
    "            print('Validation Loss Error : {:>6.3f}, Batch Validation Time : {:d} seconds'.format(avarage_validation_loss_error, int(batch_time)))\n",
    "            learning_rate *= learning_rate_decay\n",
    "            if learning_rate < min_learning_rate:\n",
    "                learning_rate = min_learning_rate\n",
    "            \n",
    "            list_validation_loss_error.append(avarage_validation_loss_error)\n",
    "            if avarage_validation_loss_error <= min(list_validation_loss_error):\n",
    "                print('I Speek Better Now!!')\n",
    "                early_stopping_check = 0\n",
    "                saver = tf.train.Saver()\n",
    "                saver.save(session, checkpoint)\n",
    "            else:\n",
    "                print('Sorry I Do Not Speek Better, I Need To Practice More.')\n",
    "                early_stopping_check += 1\n",
    "                if early_stopping_check == early_stopping_stop:\n",
    "                    break\n",
    "\n",
    "    if early_stopping_check == early_stopping_stop:\n",
    "        print('my apology i cannot speak better anymore this is the best i can do.')\n",
    "        break\n",
    "\n",
    "print('game over')"
   ]
  },
  {
   "source": [
    "# Part - 4 ( Testing the seq2seq model )"
   ],
   "cell_type": "markdown",
   "metadata": {}
  },
  {
   "source": [
    "## Loading the weights and running the session"
   ],
   "cell_type": "markdown",
   "metadata": {}
  },
  {
   "cell_type": "code",
   "execution_count": 44,
   "metadata": {},
   "outputs": [
    {
     "output_type": "error",
     "ename": "NotFoundError",
     "evalue": "Unsuccessful TensorSliceReader constructor: Failed to find any matching files for ./weights/seq2seq_model.ckpt\n\t [[Node: save_4/RestoreV2_47 = RestoreV2[dtypes=[DT_FLOAT], _device=\"/job:localhost/replica:0/task:0/cpu:0\"](_recv_save_4/Const_0, save_4/RestoreV2_47/tensor_names, save_4/RestoreV2_47/shape_and_slices)]]\n\nCaused by op 'save_4/RestoreV2_47', defined at:\n  File \"c:\\Users\\kavinda\\.vscode\\extensions\\ms-toolsai.jupyter-2021.8.1013163132\\pythonFiles\\vscode_datascience_helpers\\kernel_prewarm_starter.py\", line 31, in <module>\n    runpy.run_module(module, run_name=\"__main__\", alter_sys=False)\n  File \"C:\\Users\\kavinda\\anaconda3\\envs\\chatbot\\lib\\runpy.py\", line 208, in run_module\n    return _run_code(code, {}, init_globals, run_name, mod_spec)\n  File \"C:\\Users\\kavinda\\anaconda3\\envs\\chatbot\\lib\\runpy.py\", line 85, in _run_code\n    exec(code, run_globals)\n  File \"C:\\Users\\kavinda\\anaconda3\\envs\\chatbot\\lib\\site-packages\\ipykernel_launcher.py\", line 16, in <module>\n    app.launch_new_instance()\n  File \"C:\\Users\\kavinda\\anaconda3\\envs\\chatbot\\lib\\site-packages\\traitlets\\config\\application.py\", line 658, in launch_instance\n    app.start()\n  File \"C:\\Users\\kavinda\\anaconda3\\envs\\chatbot\\lib\\site-packages\\ipykernel\\kernelapp.py\", line 486, in start\n    self.io_loop.start()\n  File \"C:\\Users\\kavinda\\anaconda3\\envs\\chatbot\\lib\\site-packages\\tornado\\platform\\asyncio.py\", line 127, in start\n    self.asyncio_loop.run_forever()\n  File \"C:\\Users\\kavinda\\anaconda3\\envs\\chatbot\\lib\\asyncio\\base_events.py\", line 421, in run_forever\n    self._run_once()\n  File \"C:\\Users\\kavinda\\anaconda3\\envs\\chatbot\\lib\\asyncio\\base_events.py\", line 1425, in _run_once\n    handle._run()\n  File \"C:\\Users\\kavinda\\anaconda3\\envs\\chatbot\\lib\\asyncio\\events.py\", line 127, in _run\n    self._callback(*self._args)\n  File \"C:\\Users\\kavinda\\anaconda3\\envs\\chatbot\\lib\\site-packages\\tornado\\platform\\asyncio.py\", line 117, in _handle_events\n    handler_func(fileobj, events)\n  File \"C:\\Users\\kavinda\\anaconda3\\envs\\chatbot\\lib\\site-packages\\tornado\\stack_context.py\", line 276, in null_wrapper\n    return fn(*args, **kwargs)\n  File \"C:\\Users\\kavinda\\anaconda3\\envs\\chatbot\\lib\\site-packages\\zmq\\eventloop\\zmqstream.py\", line 450, in _handle_events\n    self._handle_recv()\n  File \"C:\\Users\\kavinda\\anaconda3\\envs\\chatbot\\lib\\site-packages\\zmq\\eventloop\\zmqstream.py\", line 480, in _handle_recv\n    self._run_callback(callback, msg)\n  File \"C:\\Users\\kavinda\\anaconda3\\envs\\chatbot\\lib\\site-packages\\zmq\\eventloop\\zmqstream.py\", line 432, in _run_callback\n    callback(*args, **kwargs)\n  File \"C:\\Users\\kavinda\\anaconda3\\envs\\chatbot\\lib\\site-packages\\tornado\\stack_context.py\", line 276, in null_wrapper\n    return fn(*args, **kwargs)\n  File \"C:\\Users\\kavinda\\anaconda3\\envs\\chatbot\\lib\\site-packages\\ipykernel\\kernelbase.py\", line 283, in dispatcher\n    return self.dispatch_shell(stream, msg)\n  File \"C:\\Users\\kavinda\\anaconda3\\envs\\chatbot\\lib\\site-packages\\ipykernel\\kernelbase.py\", line 233, in dispatch_shell\n    handler(stream, idents, msg)\n  File \"C:\\Users\\kavinda\\anaconda3\\envs\\chatbot\\lib\\site-packages\\ipykernel\\kernelbase.py\", line 399, in execute_request\n    user_expressions, allow_stdin)\n  File \"C:\\Users\\kavinda\\anaconda3\\envs\\chatbot\\lib\\site-packages\\ipykernel\\ipkernel.py\", line 208, in do_execute\n    res = shell.run_cell(code, store_history=store_history, silent=silent)\n  File \"C:\\Users\\kavinda\\anaconda3\\envs\\chatbot\\lib\\site-packages\\ipykernel\\zmqshell.py\", line 537, in run_cell\n    return super(ZMQInteractiveShell, self).run_cell(*args, **kwargs)\n  File \"C:\\Users\\kavinda\\anaconda3\\envs\\chatbot\\lib\\site-packages\\IPython\\core\\interactiveshell.py\", line 2662, in run_cell\n    raw_cell, store_history, silent, shell_futures)\n  File \"C:\\Users\\kavinda\\anaconda3\\envs\\chatbot\\lib\\site-packages\\IPython\\core\\interactiveshell.py\", line 2785, in _run_cell\n    interactivity=interactivity, compiler=compiler, result=result)\n  File \"C:\\Users\\kavinda\\anaconda3\\envs\\chatbot\\lib\\site-packages\\IPython\\core\\interactiveshell.py\", line 2903, in run_ast_nodes\n    if self.run_code(code, result):\n  File \"C:\\Users\\kavinda\\anaconda3\\envs\\chatbot\\lib\\site-packages\\IPython\\core\\interactiveshell.py\", line 2963, in run_code\n    exec(code_obj, self.user_global_ns, self.user_ns)\n  File \"<ipython-input-44-5557d8b8a6b1>\", line 4, in <module>\n    saver = tf.train.Saver()\n  File \"C:\\Users\\kavinda\\anaconda3\\envs\\chatbot\\lib\\site-packages\\tensorflow\\python\\training\\saver.py\", line 1051, in __init__\n    self.build()\n  File \"C:\\Users\\kavinda\\anaconda3\\envs\\chatbot\\lib\\site-packages\\tensorflow\\python\\training\\saver.py\", line 1081, in build\n    restore_sequentially=self._restore_sequentially)\n  File \"C:\\Users\\kavinda\\anaconda3\\envs\\chatbot\\lib\\site-packages\\tensorflow\\python\\training\\saver.py\", line 675, in build\n    restore_sequentially, reshape)\n  File \"C:\\Users\\kavinda\\anaconda3\\envs\\chatbot\\lib\\site-packages\\tensorflow\\python\\training\\saver.py\", line 402, in _AddRestoreOps\n    tensors = self.restore_op(filename_tensor, saveable, preferred_shard)\n  File \"C:\\Users\\kavinda\\anaconda3\\envs\\chatbot\\lib\\site-packages\\tensorflow\\python\\training\\saver.py\", line 242, in restore_op\n    [spec.tensor.dtype])[0])\n  File \"C:\\Users\\kavinda\\anaconda3\\envs\\chatbot\\lib\\site-packages\\tensorflow\\python\\ops\\gen_io_ops.py\", line 668, in restore_v2\n    dtypes=dtypes, name=name)\n  File \"C:\\Users\\kavinda\\anaconda3\\envs\\chatbot\\lib\\site-packages\\tensorflow\\python\\framework\\op_def_library.py\", line 763, in apply_op\n    op_def=op_def)\n  File \"C:\\Users\\kavinda\\anaconda3\\envs\\chatbot\\lib\\site-packages\\tensorflow\\python\\framework\\ops.py\", line 2395, in create_op\n    original_op=self._default_original_op, op_def=op_def)\n  File \"C:\\Users\\kavinda\\anaconda3\\envs\\chatbot\\lib\\site-packages\\tensorflow\\python\\framework\\ops.py\", line 1264, in __init__\n    self._traceback = _extract_stack()\n\nNotFoundError (see above for traceback): Unsuccessful TensorSliceReader constructor: Failed to find any matching files for ./weights/seq2seq_model.ckpt\n\t [[Node: save_4/RestoreV2_47 = RestoreV2[dtypes=[DT_FLOAT], _device=\"/job:localhost/replica:0/task:0/cpu:0\"](_recv_save_4/Const_0, save_4/RestoreV2_47/tensor_names, save_4/RestoreV2_47/shape_and_slices)]]\n",
     "traceback": [
      "\u001b[1;31m---------------------------------------------------------------------------\u001b[0m",
      "\u001b[1;31mNotFoundError\u001b[0m                             Traceback (most recent call last)",
      "\u001b[1;32m~\\anaconda3\\envs\\chatbot\\lib\\site-packages\\tensorflow\\python\\client\\session.py\u001b[0m in \u001b[0;36m_do_call\u001b[1;34m(self, fn, *args)\u001b[0m\n\u001b[0;32m   1021\u001b[0m     \u001b[1;32mtry\u001b[0m\u001b[1;33m:\u001b[0m\u001b[1;33m\u001b[0m\u001b[0m\n\u001b[1;32m-> 1022\u001b[1;33m       \u001b[1;32mreturn\u001b[0m \u001b[0mfn\u001b[0m\u001b[1;33m(\u001b[0m\u001b[1;33m*\u001b[0m\u001b[0margs\u001b[0m\u001b[1;33m)\u001b[0m\u001b[1;33m\u001b[0m\u001b[0m\n\u001b[0m\u001b[0;32m   1023\u001b[0m     \u001b[1;32mexcept\u001b[0m \u001b[0merrors\u001b[0m\u001b[1;33m.\u001b[0m\u001b[0mOpError\u001b[0m \u001b[1;32mas\u001b[0m \u001b[0me\u001b[0m\u001b[1;33m:\u001b[0m\u001b[1;33m\u001b[0m\u001b[0m\n",
      "\u001b[1;32m~\\anaconda3\\envs\\chatbot\\lib\\site-packages\\tensorflow\\python\\client\\session.py\u001b[0m in \u001b[0;36m_run_fn\u001b[1;34m(session, feed_dict, fetch_list, target_list, options, run_metadata)\u001b[0m\n\u001b[0;32m   1003\u001b[0m                                  \u001b[0mfeed_dict\u001b[0m\u001b[1;33m,\u001b[0m \u001b[0mfetch_list\u001b[0m\u001b[1;33m,\u001b[0m \u001b[0mtarget_list\u001b[0m\u001b[1;33m,\u001b[0m\u001b[1;33m\u001b[0m\u001b[0m\n\u001b[1;32m-> 1004\u001b[1;33m                                  status, run_metadata)\n\u001b[0m\u001b[0;32m   1005\u001b[0m \u001b[1;33m\u001b[0m\u001b[0m\n",
      "\u001b[1;32m~\\anaconda3\\envs\\chatbot\\lib\\contextlib.py\u001b[0m in \u001b[0;36m__exit__\u001b[1;34m(self, type, value, traceback)\u001b[0m\n\u001b[0;32m     65\u001b[0m             \u001b[1;32mtry\u001b[0m\u001b[1;33m:\u001b[0m\u001b[1;33m\u001b[0m\u001b[0m\n\u001b[1;32m---> 66\u001b[1;33m                 \u001b[0mnext\u001b[0m\u001b[1;33m(\u001b[0m\u001b[0mself\u001b[0m\u001b[1;33m.\u001b[0m\u001b[0mgen\u001b[0m\u001b[1;33m)\u001b[0m\u001b[1;33m\u001b[0m\u001b[0m\n\u001b[0m\u001b[0;32m     67\u001b[0m             \u001b[1;32mexcept\u001b[0m \u001b[0mStopIteration\u001b[0m\u001b[1;33m:\u001b[0m\u001b[1;33m\u001b[0m\u001b[0m\n",
      "\u001b[1;32m~\\anaconda3\\envs\\chatbot\\lib\\site-packages\\tensorflow\\python\\framework\\errors_impl.py\u001b[0m in \u001b[0;36mraise_exception_on_not_ok_status\u001b[1;34m()\u001b[0m\n\u001b[0;32m    468\u001b[0m           \u001b[0mcompat\u001b[0m\u001b[1;33m.\u001b[0m\u001b[0mas_text\u001b[0m\u001b[1;33m(\u001b[0m\u001b[0mpywrap_tensorflow\u001b[0m\u001b[1;33m.\u001b[0m\u001b[0mTF_Message\u001b[0m\u001b[1;33m(\u001b[0m\u001b[0mstatus\u001b[0m\u001b[1;33m)\u001b[0m\u001b[1;33m)\u001b[0m\u001b[1;33m,\u001b[0m\u001b[1;33m\u001b[0m\u001b[0m\n\u001b[1;32m--> 469\u001b[1;33m           pywrap_tensorflow.TF_GetCode(status))\n\u001b[0m\u001b[0;32m    470\u001b[0m   \u001b[1;32mfinally\u001b[0m\u001b[1;33m:\u001b[0m\u001b[1;33m\u001b[0m\u001b[0m\n",
      "\u001b[1;31mNotFoundError\u001b[0m: Unsuccessful TensorSliceReader constructor: Failed to find any matching files for ./weights/seq2seq_model.ckpt\n\t [[Node: save_4/RestoreV2_47 = RestoreV2[dtypes=[DT_FLOAT], _device=\"/job:localhost/replica:0/task:0/cpu:0\"](_recv_save_4/Const_0, save_4/RestoreV2_47/tensor_names, save_4/RestoreV2_47/shape_and_slices)]]",
      "\nDuring handling of the above exception, another exception occurred:\n",
      "\u001b[1;31mNotFoundError\u001b[0m                             Traceback (most recent call last)",
      "\u001b[1;32m<ipython-input-44-5557d8b8a6b1>\u001b[0m in \u001b[0;36m<module>\u001b[1;34m()\u001b[0m\n\u001b[0;32m      3\u001b[0m \u001b[0msession\u001b[0m\u001b[1;33m.\u001b[0m\u001b[0mrun\u001b[0m\u001b[1;33m(\u001b[0m\u001b[0mtf\u001b[0m\u001b[1;33m.\u001b[0m\u001b[0mglobal_variables_initializer\u001b[0m\u001b[1;33m(\u001b[0m\u001b[1;33m)\u001b[0m\u001b[1;33m)\u001b[0m\u001b[1;33m\u001b[0m\u001b[0m\n\u001b[0;32m      4\u001b[0m \u001b[0msaver\u001b[0m \u001b[1;33m=\u001b[0m \u001b[0mtf\u001b[0m\u001b[1;33m.\u001b[0m\u001b[0mtrain\u001b[0m\u001b[1;33m.\u001b[0m\u001b[0mSaver\u001b[0m\u001b[1;33m(\u001b[0m\u001b[1;33m)\u001b[0m\u001b[1;33m\u001b[0m\u001b[0m\n\u001b[1;32m----> 5\u001b[1;33m \u001b[0msaver\u001b[0m\u001b[1;33m.\u001b[0m\u001b[0mrestore\u001b[0m\u001b[1;33m(\u001b[0m\u001b[0msession\u001b[0m\u001b[1;33m,\u001b[0m \u001b[0mcheckpoint\u001b[0m\u001b[1;33m)\u001b[0m\u001b[1;33m\u001b[0m\u001b[0m\n\u001b[0m",
      "\u001b[1;32m~\\anaconda3\\envs\\chatbot\\lib\\site-packages\\tensorflow\\python\\training\\saver.py\u001b[0m in \u001b[0;36mrestore\u001b[1;34m(self, sess, save_path)\u001b[0m\n\u001b[0;32m   1437\u001b[0m       \u001b[1;32mreturn\u001b[0m\u001b[1;33m\u001b[0m\u001b[0m\n\u001b[0;32m   1438\u001b[0m     sess.run(self.saver_def.restore_op_name,\n\u001b[1;32m-> 1439\u001b[1;33m              {self.saver_def.filename_tensor_name: save_path})\n\u001b[0m\u001b[0;32m   1440\u001b[0m \u001b[1;33m\u001b[0m\u001b[0m\n\u001b[0;32m   1441\u001b[0m   \u001b[1;33m@\u001b[0m\u001b[0mstaticmethod\u001b[0m\u001b[1;33m\u001b[0m\u001b[0m\n",
      "\u001b[1;32m~\\anaconda3\\envs\\chatbot\\lib\\site-packages\\tensorflow\\python\\client\\session.py\u001b[0m in \u001b[0;36mrun\u001b[1;34m(self, fetches, feed_dict, options, run_metadata)\u001b[0m\n\u001b[0;32m    765\u001b[0m     \u001b[1;32mtry\u001b[0m\u001b[1;33m:\u001b[0m\u001b[1;33m\u001b[0m\u001b[0m\n\u001b[0;32m    766\u001b[0m       result = self._run(None, fetches, feed_dict, options_ptr,\n\u001b[1;32m--> 767\u001b[1;33m                          run_metadata_ptr)\n\u001b[0m\u001b[0;32m    768\u001b[0m       \u001b[1;32mif\u001b[0m \u001b[0mrun_metadata\u001b[0m\u001b[1;33m:\u001b[0m\u001b[1;33m\u001b[0m\u001b[0m\n\u001b[0;32m    769\u001b[0m         \u001b[0mproto_data\u001b[0m \u001b[1;33m=\u001b[0m \u001b[0mtf_session\u001b[0m\u001b[1;33m.\u001b[0m\u001b[0mTF_GetBuffer\u001b[0m\u001b[1;33m(\u001b[0m\u001b[0mrun_metadata_ptr\u001b[0m\u001b[1;33m)\u001b[0m\u001b[1;33m\u001b[0m\u001b[0m\n",
      "\u001b[1;32m~\\anaconda3\\envs\\chatbot\\lib\\site-packages\\tensorflow\\python\\client\\session.py\u001b[0m in \u001b[0;36m_run\u001b[1;34m(self, handle, fetches, feed_dict, options, run_metadata)\u001b[0m\n\u001b[0;32m    963\u001b[0m     \u001b[1;32mif\u001b[0m \u001b[0mfinal_fetches\u001b[0m \u001b[1;32mor\u001b[0m \u001b[0mfinal_targets\u001b[0m\u001b[1;33m:\u001b[0m\u001b[1;33m\u001b[0m\u001b[0m\n\u001b[0;32m    964\u001b[0m       results = self._do_run(handle, final_targets, final_fetches,\n\u001b[1;32m--> 965\u001b[1;33m                              feed_dict_string, options, run_metadata)\n\u001b[0m\u001b[0;32m    966\u001b[0m     \u001b[1;32melse\u001b[0m\u001b[1;33m:\u001b[0m\u001b[1;33m\u001b[0m\u001b[0m\n\u001b[0;32m    967\u001b[0m       \u001b[0mresults\u001b[0m \u001b[1;33m=\u001b[0m \u001b[1;33m[\u001b[0m\u001b[1;33m]\u001b[0m\u001b[1;33m\u001b[0m\u001b[0m\n",
      "\u001b[1;32m~\\anaconda3\\envs\\chatbot\\lib\\site-packages\\tensorflow\\python\\client\\session.py\u001b[0m in \u001b[0;36m_do_run\u001b[1;34m(self, handle, target_list, fetch_list, feed_dict, options, run_metadata)\u001b[0m\n\u001b[0;32m   1013\u001b[0m     \u001b[1;32mif\u001b[0m \u001b[0mhandle\u001b[0m \u001b[1;32mis\u001b[0m \u001b[1;32mNone\u001b[0m\u001b[1;33m:\u001b[0m\u001b[1;33m\u001b[0m\u001b[0m\n\u001b[0;32m   1014\u001b[0m       return self._do_call(_run_fn, self._session, feed_dict, fetch_list,\n\u001b[1;32m-> 1015\u001b[1;33m                            target_list, options, run_metadata)\n\u001b[0m\u001b[0;32m   1016\u001b[0m     \u001b[1;32melse\u001b[0m\u001b[1;33m:\u001b[0m\u001b[1;33m\u001b[0m\u001b[0m\n\u001b[0;32m   1017\u001b[0m       return self._do_call(_prun_fn, self._session, handle, feed_dict,\n",
      "\u001b[1;32m~\\anaconda3\\envs\\chatbot\\lib\\site-packages\\tensorflow\\python\\client\\session.py\u001b[0m in \u001b[0;36m_do_call\u001b[1;34m(self, fn, *args)\u001b[0m\n\u001b[0;32m   1033\u001b[0m         \u001b[1;32mexcept\u001b[0m \u001b[0mKeyError\u001b[0m\u001b[1;33m:\u001b[0m\u001b[1;33m\u001b[0m\u001b[0m\n\u001b[0;32m   1034\u001b[0m           \u001b[1;32mpass\u001b[0m\u001b[1;33m\u001b[0m\u001b[0m\n\u001b[1;32m-> 1035\u001b[1;33m       \u001b[1;32mraise\u001b[0m \u001b[0mtype\u001b[0m\u001b[1;33m(\u001b[0m\u001b[0me\u001b[0m\u001b[1;33m)\u001b[0m\u001b[1;33m(\u001b[0m\u001b[0mnode_def\u001b[0m\u001b[1;33m,\u001b[0m \u001b[0mop\u001b[0m\u001b[1;33m,\u001b[0m \u001b[0mmessage\u001b[0m\u001b[1;33m)\u001b[0m\u001b[1;33m\u001b[0m\u001b[0m\n\u001b[0m\u001b[0;32m   1036\u001b[0m \u001b[1;33m\u001b[0m\u001b[0m\n\u001b[0;32m   1037\u001b[0m   \u001b[1;32mdef\u001b[0m \u001b[0m_extend_graph\u001b[0m\u001b[1;33m(\u001b[0m\u001b[0mself\u001b[0m\u001b[1;33m)\u001b[0m\u001b[1;33m:\u001b[0m\u001b[1;33m\u001b[0m\u001b[0m\n",
      "\u001b[1;31mNotFoundError\u001b[0m: Unsuccessful TensorSliceReader constructor: Failed to find any matching files for ./weights/seq2seq_model.ckpt\n\t [[Node: save_4/RestoreV2_47 = RestoreV2[dtypes=[DT_FLOAT], _device=\"/job:localhost/replica:0/task:0/cpu:0\"](_recv_save_4/Const_0, save_4/RestoreV2_47/tensor_names, save_4/RestoreV2_47/shape_and_slices)]]\n\nCaused by op 'save_4/RestoreV2_47', defined at:\n  File \"c:\\Users\\kavinda\\.vscode\\extensions\\ms-toolsai.jupyter-2021.8.1013163132\\pythonFiles\\vscode_datascience_helpers\\kernel_prewarm_starter.py\", line 31, in <module>\n    runpy.run_module(module, run_name=\"__main__\", alter_sys=False)\n  File \"C:\\Users\\kavinda\\anaconda3\\envs\\chatbot\\lib\\runpy.py\", line 208, in run_module\n    return _run_code(code, {}, init_globals, run_name, mod_spec)\n  File \"C:\\Users\\kavinda\\anaconda3\\envs\\chatbot\\lib\\runpy.py\", line 85, in _run_code\n    exec(code, run_globals)\n  File \"C:\\Users\\kavinda\\anaconda3\\envs\\chatbot\\lib\\site-packages\\ipykernel_launcher.py\", line 16, in <module>\n    app.launch_new_instance()\n  File \"C:\\Users\\kavinda\\anaconda3\\envs\\chatbot\\lib\\site-packages\\traitlets\\config\\application.py\", line 658, in launch_instance\n    app.start()\n  File \"C:\\Users\\kavinda\\anaconda3\\envs\\chatbot\\lib\\site-packages\\ipykernel\\kernelapp.py\", line 486, in start\n    self.io_loop.start()\n  File \"C:\\Users\\kavinda\\anaconda3\\envs\\chatbot\\lib\\site-packages\\tornado\\platform\\asyncio.py\", line 127, in start\n    self.asyncio_loop.run_forever()\n  File \"C:\\Users\\kavinda\\anaconda3\\envs\\chatbot\\lib\\asyncio\\base_events.py\", line 421, in run_forever\n    self._run_once()\n  File \"C:\\Users\\kavinda\\anaconda3\\envs\\chatbot\\lib\\asyncio\\base_events.py\", line 1425, in _run_once\n    handle._run()\n  File \"C:\\Users\\kavinda\\anaconda3\\envs\\chatbot\\lib\\asyncio\\events.py\", line 127, in _run\n    self._callback(*self._args)\n  File \"C:\\Users\\kavinda\\anaconda3\\envs\\chatbot\\lib\\site-packages\\tornado\\platform\\asyncio.py\", line 117, in _handle_events\n    handler_func(fileobj, events)\n  File \"C:\\Users\\kavinda\\anaconda3\\envs\\chatbot\\lib\\site-packages\\tornado\\stack_context.py\", line 276, in null_wrapper\n    return fn(*args, **kwargs)\n  File \"C:\\Users\\kavinda\\anaconda3\\envs\\chatbot\\lib\\site-packages\\zmq\\eventloop\\zmqstream.py\", line 450, in _handle_events\n    self._handle_recv()\n  File \"C:\\Users\\kavinda\\anaconda3\\envs\\chatbot\\lib\\site-packages\\zmq\\eventloop\\zmqstream.py\", line 480, in _handle_recv\n    self._run_callback(callback, msg)\n  File \"C:\\Users\\kavinda\\anaconda3\\envs\\chatbot\\lib\\site-packages\\zmq\\eventloop\\zmqstream.py\", line 432, in _run_callback\n    callback(*args, **kwargs)\n  File \"C:\\Users\\kavinda\\anaconda3\\envs\\chatbot\\lib\\site-packages\\tornado\\stack_context.py\", line 276, in null_wrapper\n    return fn(*args, **kwargs)\n  File \"C:\\Users\\kavinda\\anaconda3\\envs\\chatbot\\lib\\site-packages\\ipykernel\\kernelbase.py\", line 283, in dispatcher\n    return self.dispatch_shell(stream, msg)\n  File \"C:\\Users\\kavinda\\anaconda3\\envs\\chatbot\\lib\\site-packages\\ipykernel\\kernelbase.py\", line 233, in dispatch_shell\n    handler(stream, idents, msg)\n  File \"C:\\Users\\kavinda\\anaconda3\\envs\\chatbot\\lib\\site-packages\\ipykernel\\kernelbase.py\", line 399, in execute_request\n    user_expressions, allow_stdin)\n  File \"C:\\Users\\kavinda\\anaconda3\\envs\\chatbot\\lib\\site-packages\\ipykernel\\ipkernel.py\", line 208, in do_execute\n    res = shell.run_cell(code, store_history=store_history, silent=silent)\n  File \"C:\\Users\\kavinda\\anaconda3\\envs\\chatbot\\lib\\site-packages\\ipykernel\\zmqshell.py\", line 537, in run_cell\n    return super(ZMQInteractiveShell, self).run_cell(*args, **kwargs)\n  File \"C:\\Users\\kavinda\\anaconda3\\envs\\chatbot\\lib\\site-packages\\IPython\\core\\interactiveshell.py\", line 2662, in run_cell\n    raw_cell, store_history, silent, shell_futures)\n  File \"C:\\Users\\kavinda\\anaconda3\\envs\\chatbot\\lib\\site-packages\\IPython\\core\\interactiveshell.py\", line 2785, in _run_cell\n    interactivity=interactivity, compiler=compiler, result=result)\n  File \"C:\\Users\\kavinda\\anaconda3\\envs\\chatbot\\lib\\site-packages\\IPython\\core\\interactiveshell.py\", line 2903, in run_ast_nodes\n    if self.run_code(code, result):\n  File \"C:\\Users\\kavinda\\anaconda3\\envs\\chatbot\\lib\\site-packages\\IPython\\core\\interactiveshell.py\", line 2963, in run_code\n    exec(code_obj, self.user_global_ns, self.user_ns)\n  File \"<ipython-input-44-5557d8b8a6b1>\", line 4, in <module>\n    saver = tf.train.Saver()\n  File \"C:\\Users\\kavinda\\anaconda3\\envs\\chatbot\\lib\\site-packages\\tensorflow\\python\\training\\saver.py\", line 1051, in __init__\n    self.build()\n  File \"C:\\Users\\kavinda\\anaconda3\\envs\\chatbot\\lib\\site-packages\\tensorflow\\python\\training\\saver.py\", line 1081, in build\n    restore_sequentially=self._restore_sequentially)\n  File \"C:\\Users\\kavinda\\anaconda3\\envs\\chatbot\\lib\\site-packages\\tensorflow\\python\\training\\saver.py\", line 675, in build\n    restore_sequentially, reshape)\n  File \"C:\\Users\\kavinda\\anaconda3\\envs\\chatbot\\lib\\site-packages\\tensorflow\\python\\training\\saver.py\", line 402, in _AddRestoreOps\n    tensors = self.restore_op(filename_tensor, saveable, preferred_shard)\n  File \"C:\\Users\\kavinda\\anaconda3\\envs\\chatbot\\lib\\site-packages\\tensorflow\\python\\training\\saver.py\", line 242, in restore_op\n    [spec.tensor.dtype])[0])\n  File \"C:\\Users\\kavinda\\anaconda3\\envs\\chatbot\\lib\\site-packages\\tensorflow\\python\\ops\\gen_io_ops.py\", line 668, in restore_v2\n    dtypes=dtypes, name=name)\n  File \"C:\\Users\\kavinda\\anaconda3\\envs\\chatbot\\lib\\site-packages\\tensorflow\\python\\framework\\op_def_library.py\", line 763, in apply_op\n    op_def=op_def)\n  File \"C:\\Users\\kavinda\\anaconda3\\envs\\chatbot\\lib\\site-packages\\tensorflow\\python\\framework\\ops.py\", line 2395, in create_op\n    original_op=self._default_original_op, op_def=op_def)\n  File \"C:\\Users\\kavinda\\anaconda3\\envs\\chatbot\\lib\\site-packages\\tensorflow\\python\\framework\\ops.py\", line 1264, in __init__\n    self._traceback = _extract_stack()\n\nNotFoundError (see above for traceback): Unsuccessful TensorSliceReader constructor: Failed to find any matching files for ./weights/seq2seq_model.ckpt\n\t [[Node: save_4/RestoreV2_47 = RestoreV2[dtypes=[DT_FLOAT], _device=\"/job:localhost/replica:0/task:0/cpu:0\"](_recv_save_4/Const_0, save_4/RestoreV2_47/tensor_names, save_4/RestoreV2_47/shape_and_slices)]]\n"
     ]
    }
   ],
   "source": [
    "checkpoint = \"./weights/seq2seq_model.ckpt\"\n",
    "session = tf.InteractiveSession()\n",
    "session.run(tf.global_variables_initializer())\n",
    "saver = tf.train.Saver()\n",
    "saver.restore(session, checkpoint)"
   ]
  },
  {
   "source": [
    "## Convert the questions from string to list of encoded integers"
   ],
   "cell_type": "markdown",
   "metadata": {}
  },
  {
   "cell_type": "code",
   "execution_count": null,
   "metadata": {},
   "outputs": [],
   "source": [
    "def convert_string2int(question, word2int):\n",
    "    question = cleanText(question)\n",
    "    return [word2int.get(word, word2int['<OUT>']) for word in question.split()]"
   ]
  },
  {
   "source": [
    "## Setting up the chat"
   ],
   "cell_type": "markdown",
   "metadata": {}
  },
  {
   "cell_type": "code",
   "execution_count": null,
   "metadata": {},
   "outputs": [],
   "source": [
    "while(True):\n",
    "    quection = input('You : ')\n",
    "    if question == 'goodbye':\n",
    "        break\n",
    "    question = convert_string2int(quection, questionsWords2ints)\n",
    "    question = question + [questionsWords2ints['<PAD>']] * (20 - len(quection))\n",
    "    fake_batch = np.zeros((batch_size, 20))\n",
    "    fake_batch[0] = quection\n",
    "    predicted_answer = session.run(test_predictions, {inputs: fake_batch, keep_prob: 0.5})[0]\n",
    "    answer = ''\n",
    "    for i in np.argmax(predicted_answer,1):\n",
    "        if answersInts2Words[i] == 'i':\n",
    "            token = 'I'\n",
    "        elif answersInts2Words[i] == '<EOS>':\n",
    "            token = '.'\n",
    "        elif answersInts2Words[i] == '<OUT>':\n",
    "            token = 'out'\n",
    "        else:\n",
    "            token = ' ' + answersInts2Words[i]\n",
    "        answer += 1\n",
    "        if token == '.':\n",
    "            break\n",
    "    print('ChatBot : ' + answer)"
   ]
  }
 ]
}