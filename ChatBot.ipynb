{
 "metadata": {
  "language_info": {
   "codemirror_mode": {
    "name": "ipython",
    "version": 3
   },
   "file_extension": ".py",
   "mimetype": "text/x-python",
   "name": "python",
   "nbconvert_exporter": "python",
   "pygments_lexer": "ipython3",
   "version": "3.5.5"
  },
  "orig_nbformat": 4,
  "kernelspec": {
   "name": "python3",
   "display_name": "Python 3.5.5 64-bit ('chatbot': conda)"
  },
  "interpreter": {
   "hash": "d7e586cc4ff604ab342ee69402a1e04c4c2c6e9617a1b2586b3149cbd633dc02"
  }
 },
 "nbformat": 4,
 "nbformat_minor": 2,
 "cells": [
  {
   "source": [
    "# Part - 1 ( Data Preprocessing )"
   ],
   "cell_type": "markdown",
   "metadata": {}
  },
  {
   "source": [
    "## Importing the libraries"
   ],
   "cell_type": "markdown",
   "metadata": {}
  },
  {
   "cell_type": "code",
   "execution_count": 1,
   "metadata": {},
   "outputs": [],
   "source": [
    "import numpy as np\n",
    "import tensorflow as tf\n",
    "import re\n",
    "import time"
   ]
  },
  {
   "cell_type": "code",
   "execution_count": 2,
   "metadata": {},
   "outputs": [
    {
     "output_type": "execute_result",
     "data": {
      "text/plain": [
       "'1.0.0'"
      ]
     },
     "metadata": {},
     "execution_count": 2
    }
   ],
   "source": [
    "tf.__version__"
   ]
  },
  {
   "source": [
    "## Importing the dataset"
   ],
   "cell_type": "markdown",
   "metadata": {}
  },
  {
   "cell_type": "code",
   "execution_count": 3,
   "metadata": {},
   "outputs": [],
   "source": [
    "lines = open('dataset/movie_lines.txt', encoding='utf-8', errors='ignore').read().split('\\n')\n",
    "conversations = open('dataset/movie_conversations.txt', encoding='utf-8', errors='ignore').read().split('\\n')"
   ]
  },
  {
   "source": [
    "## Create a dictionary that maps each lines and its id"
   ],
   "cell_type": "markdown",
   "metadata": {}
  },
  {
   "cell_type": "code",
   "execution_count": 4,
   "metadata": {},
   "outputs": [],
   "source": [
    "id2line = {}\n",
    "\n",
    "for line in lines:\n",
    "    _line = line.split(' +++$+++ ') # _line : throwaway variables\n",
    "    if len(_line) == 5:\n",
    "        id2line[_line[0]] = _line[4]"
   ]
  },
  {
   "source": [
    "## Create a list of all the conversation"
   ],
   "cell_type": "markdown",
   "metadata": {}
  },
  {
   "cell_type": "code",
   "execution_count": 5,
   "metadata": {},
   "outputs": [],
   "source": [
    "conversations_ids = []\n",
    "\n",
    "for conversation in conversations[:-1]: # last row of conversations is empty\n",
    "    _conversation = conversation.split(' +++$+++ ')[-1][1:-1].replace(\"'\",\"\").replace(\" \", \"\")\n",
    "    #                                               |     |             |               |______ remove spaces\n",
    "    #                                               |     |             |______________________ remove '\n",
    "    #                                               |     |____________________________________ remove the '[' , ']'\n",
    "    #                                               |__________________________________________ get last element of split (ids)\n",
    "    conversations_ids.append(_conversation.split(','))"
   ]
  },
  {
   "source": [
    "## Get questions and answers"
   ],
   "cell_type": "markdown",
   "metadata": {}
  },
  {
   "cell_type": "code",
   "execution_count": 6,
   "metadata": {},
   "outputs": [],
   "source": [
    "questions = []\n",
    "answers = []\n",
    "\n",
    "for conversation in conversations_ids:\n",
    "    for i in range(len(conversation) -1 ):\n",
    "        questions.append( id2line[conversation[i]] )\n",
    "        answers.append( id2line[conversation[i+1]] )"
   ]
  },
  {
   "cell_type": "code",
   "execution_count": 7,
   "metadata": {},
   "outputs": [],
   "source": [
    "def printQA(questions, answers, startIndex, endIndex):\n",
    "    for i in range(startIndex, endIndex):\n",
    "        print(' Q : ',questions[i],'\\n', 'A : ' ,answers[i], '\\n')"
   ]
  },
  {
   "cell_type": "code",
   "execution_count": 8,
   "metadata": {},
   "outputs": [
    {
     "output_type": "stream",
     "name": "stdout",
     "text": [
      " Q :  Can we make this quick?  Roxanne Korrine and Andrew Barrett are having an incredibly horrendous public break- up on the quad.  Again. \n A :  Well, I thought we'd start with pronunciation, if that's okay with you. \n\n Q :  Well, I thought we'd start with pronunciation, if that's okay with you. \n A :  Not the hacking and gagging and spitting part.  Please. \n\n Q :  Not the hacking and gagging and spitting part.  Please. \n A :  Okay... then how 'bout we try out some French cuisine.  Saturday?  Night? \n\n Q :  You're asking me out.  That's so cute. What's your name again? \n A :  Forget it. \n\n Q :  No, no, it's my fault -- we didn't have a proper introduction --- \n A :  Cameron. \n\n Q :  Cameron. \n A :  The thing is, Cameron -- I'm at the mercy of a particularly hideous breed of loser.  My sister.  I can't date until she does. \n\n Q :  The thing is, Cameron -- I'm at the mercy of a particularly hideous breed of loser.  My sister.  I can't date until she does. \n A :  Seems like she could get a date easy enough... \n\n Q :  Why? \n A :  Unsolved mystery.  She used to be really popular when she started high school, then it was just like she got sick of it or something. \n\n Q :  Unsolved mystery.  She used to be really popular when she started high school, then it was just like she got sick of it or something. \n A :  That's a shame. \n\n Q :  Gosh, if only we could find Kat a boyfriend... \n A :  Let me see what I can do. \n\n"
     ]
    }
   ],
   "source": [
    "printQA(questions, answers, 0, 10)"
   ]
  },
  {
   "source": [
    "## Cleaning the text"
   ],
   "cell_type": "markdown",
   "metadata": {}
  },
  {
   "cell_type": "code",
   "execution_count": 9,
   "metadata": {},
   "outputs": [],
   "source": [
    "def cleanText(text):\n",
    "    text = text.lower()\n",
    "    text = re.sub(r\"i'm\", \"i am\", text)\n",
    "    text = re.sub(r\"he's\", \"he is\", text)\n",
    "    text = re.sub(r\"she's\", \"she is\", text)\n",
    "    text = re.sub(r\"that's\", \"that is\", text)\n",
    "    text = re.sub(r\"what's\", \"what is\", text)\n",
    "    text = re.sub(r\"\\'ll\", \" will\", text)\n",
    "    text = re.sub(r\"\\'ve\", \" have\", text)\n",
    "    text = re.sub(r\"\\'d\", \" would\", text)\n",
    "    text = re.sub(r\"won't\", \"will not\", text)\n",
    "    text = re.sub(r\"[-()\\\"#/@;:<>{}+=~|.?,]\", \"\", text)\n",
    "    return text"
   ]
  },
  {
   "cell_type": "code",
   "execution_count": 10,
   "metadata": {},
   "outputs": [],
   "source": [
    "clean_questions = []\n",
    "for question in questions:\n",
    "    clean_questions.append(cleanText(question))"
   ]
  },
  {
   "cell_type": "code",
   "execution_count": 11,
   "metadata": {},
   "outputs": [],
   "source": [
    "clean_answers = []\n",
    "for answer in answers:\n",
    "    clean_answers.append(cleanText(answer))"
   ]
  },
  {
   "cell_type": "code",
   "execution_count": 12,
   "metadata": {},
   "outputs": [
    {
     "output_type": "stream",
     "name": "stdout",
     "text": [
      " Q :  can we make this quick  roxanne korrine and andrew barrett are having an incredibly horrendous public break up on the quad  again \n A :  well i thought we would start with pronunciation if that is okay with you \n\n Q :  well i thought we would start with pronunciation if that is okay with you \n A :  not the hacking and gagging and spitting part  please \n\n Q :  not the hacking and gagging and spitting part  please \n A :  okay then how 'bout we try out some french cuisine  saturday  night \n\n Q :  you're asking me out  that is so cute what is your name again \n A :  forget it \n\n Q :  no no it's my fault  we didn't have a proper introduction  \n A :  cameron \n\n Q :  cameron \n A :  the thing is cameron  i am at the mercy of a particularly hideous breed of loser  my sister  i can't date until she does \n\n Q :  the thing is cameron  i am at the mercy of a particularly hideous breed of loser  my sister  i can't date until she does \n A :  seems like she could get a date easy enough \n\n Q :  why \n A :  unsolved mystery  she used to be really popular when she started high school then it was just like she got sick of it or something \n\n Q :  unsolved mystery  she used to be really popular when she started high school then it was just like she got sick of it or something \n A :  that is a shame \n\n Q :  gosh if only we could find kat a boyfriend \n A :  let me see what i can do \n\n"
     ]
    }
   ],
   "source": [
    "printQA(clean_questions, clean_answers, 0, 10)"
   ]
  },
  {
   "source": [
    "## Vectorize words"
   ],
   "cell_type": "markdown",
   "metadata": {}
  },
  {
   "cell_type": "code",
   "execution_count": 13,
   "metadata": {},
   "outputs": [],
   "source": [
    "word2count = {}\n",
    "\n",
    "for question in clean_questions:\n",
    "    for word in question.split():\n",
    "        if word not in word2count:\n",
    "            word2count[word] = 1\n",
    "        else:\n",
    "            word2count[word] += 1\n",
    "\n",
    "for answer in clean_answers:\n",
    "    for word in answer.split():\n",
    "        if word not in word2count:\n",
    "            word2count[word] = 1\n",
    "        else:\n",
    "            word2count[word] += 1"
   ]
  },
  {
   "source": [
    "### Give uniqu int to word and remove non frequent words"
   ],
   "cell_type": "markdown",
   "metadata": {}
  },
  {
   "cell_type": "code",
   "execution_count": 14,
   "metadata": {},
   "outputs": [],
   "source": [
    "threshold = 20\n",
    "\n",
    "questionsWords2ints = {}\n",
    "\n",
    "word_num = 0\n",
    "for word, count in word2count.items():\n",
    "    if count >= threshold:\n",
    "        questionsWords2ints[word] = word_num\n",
    "        word_num += 1\n",
    "\n",
    "answersWords2ints = {}\n",
    "\n",
    "word_num = 0\n",
    "for word, count in word2count.items():\n",
    "    if count >= threshold:\n",
    "        answersWords2ints[word] = word_num\n",
    "        word_num += 1"
   ]
  },
  {
   "source": [
    "### Adding last two tokens to these two dictionaries"
   ],
   "cell_type": "markdown",
   "metadata": {}
  },
  {
   "cell_type": "code",
   "execution_count": 15,
   "metadata": {},
   "outputs": [],
   "source": [
    "tokens = ['<PAD>', '<EOS>', '<OUT>', '<SOS>'] \n",
    "# SOS : start of string\n",
    "# EOS : end of string\n",
    "# OUT : lest frequent words\n",
    "# PAD : padding to make same length\n",
    "\n",
    "for token in tokens:\n",
    "    questionsWords2ints[token] = len(questionsWords2ints) + 1\n",
    "\n",
    "for token in tokens:\n",
    "    answersWords2ints[token] = len(answersWords2ints) + 1"
   ]
  },
  {
   "source": [
    "### Create the inverse dictionary of answersWords2int"
   ],
   "cell_type": "markdown",
   "metadata": {}
  },
  {
   "cell_type": "code",
   "execution_count": 16,
   "metadata": {},
   "outputs": [],
   "source": [
    "answersInts2Words = {w_i : w for w, w_i in answersWords2ints.items()}"
   ]
  },
  {
   "cell_type": "code",
   "execution_count": 17,
   "metadata": {},
   "outputs": [
    {
     "output_type": "stream",
     "name": "stdout",
     "text": [
      "dentist 6635\npromote 6636\nnoise 3312\nall! 0\nasking 1157\n"
     ]
    }
   ],
   "source": [
    "i = 0\n",
    "for w, w_i in answersWords2ints.items():\n",
    "    print(w, w_i)\n",
    "    i += 1\n",
    "    if i == 5:\n",
    "        break"
   ]
  },
  {
   "cell_type": "code",
   "execution_count": 18,
   "metadata": {
    "tags": []
   },
   "outputs": [
    {
     "output_type": "stream",
     "name": "stdout",
     "text": [
      "0 all!\n1 increase\n2 floor\n3 son's\n4 bored\n"
     ]
    }
   ],
   "source": [
    "i = 0\n",
    "for w_i, w in answersInts2Words.items():\n",
    "    print(w_i,w)\n",
    "    i += 1\n",
    "    if i == 5:\n",
    "        break"
   ]
  },
  {
   "source": [
    "### Add EOS token to the end of every answer"
   ],
   "cell_type": "markdown",
   "metadata": {}
  },
  {
   "cell_type": "code",
   "execution_count": 19,
   "metadata": {},
   "outputs": [],
   "source": [
    "for i in range(len(clean_answers)):\n",
    "    clean_answers[i] += ' <EOS>'"
   ]
  },
  {
   "cell_type": "code",
   "execution_count": 20,
   "metadata": {},
   "outputs": [
    {
     "output_type": "stream",
     "name": "stdout",
     "text": [
      " Q :  can we make this quick  roxanne korrine and andrew barrett are having an incredibly horrendous public break up on the quad  again \n A :  well i thought we would start with pronunciation if that is okay with you <EOS> \n\n"
     ]
    }
   ],
   "source": [
    "printQA(clean_questions, clean_answers, 0, 1)"
   ]
  },
  {
   "source": [
    "### Translate all the questions and answers into integers\n",
    "### Replace all the filtered words by <OUT>"
   ],
   "cell_type": "markdown",
   "metadata": {}
  },
  {
   "cell_type": "code",
   "execution_count": 21,
   "metadata": {},
   "outputs": [],
   "source": [
    "questions_into_int = []\n",
    "\n",
    "for question in clean_questions:\n",
    "    ints = []\n",
    "    for word in question.split():\n",
    "        if word not in questionsWords2ints:\n",
    "            ints.append(questionsWords2ints['<OUT>'])\n",
    "        else:\n",
    "            ints.append(questionsWords2ints[word])\n",
    "    questions_into_int.append(ints)\n",
    "\n",
    "answers_into_int = []\n",
    "\n",
    "for answer in clean_answers:\n",
    "    ints = []\n",
    "    for word in answer.split():\n",
    "        if word not in questionsWords2ints:\n",
    "            ints.append(answersWords2ints['<OUT>'])\n",
    "        else:\n",
    "            ints.append(answersWords2ints[word])\n",
    "    answers_into_int.append(ints)"
   ]
  },
  {
   "source": [
    "## Short questions and answers by length of quections\n",
    "\n",
    "### This speedup training process and helps reduse the loss\n",
    "### Reduse the amount of padding during the training "
   ],
   "cell_type": "markdown",
   "metadata": {}
  },
  {
   "cell_type": "code",
   "execution_count": 22,
   "metadata": {},
   "outputs": [],
   "source": [
    "sorted_clean_quections = []\n",
    "sorted_clean_answers = []\n",
    "\n",
    "for length in range(1, 25 + 1): # upto 25\n",
    "    for i in enumerate(questions_into_int): # i[0] : index, i[1] : quection\n",
    "        if len(i[1]) == length:\n",
    "            sorted_clean_quections.append(questions_into_int[i[0]])\n",
    "            sorted_clean_answers.append(answers_into_int[i[0]])"
   ]
  },
  {
   "source": [
    "# Part - 2 ( Building Seq-2-Seq model )"
   ],
   "cell_type": "markdown",
   "metadata": {}
  },
  {
   "source": [
    "## Creating placeholders for the inputs and the targets"
   ],
   "cell_type": "markdown",
   "metadata": {}
  },
  {
   "cell_type": "code",
   "execution_count": 23,
   "metadata": {},
   "outputs": [],
   "source": [
    "def model_inputs():\n",
    "    inputs = tf.placeholder(tf.int32, shape=[None, None], name='input')\n",
    "    #                                          |_________ Two dimensional matrix\n",
    "    targets = tf.placeholder(tf.int32, shape=[None, None], name='traget')\n",
    "    lr = tf.placeholder(tf.float32, name='learning_rate')\n",
    "    keep_prob = tf.placeholder(tf.float32, name='keep_prob') # control the dropout rate\n",
    "    return inputs, targets, lr, keep_prob"
   ]
  },
  {
   "source": [
    "## Preprocessing the traget\n",
    "\n",
    "### Neural network expect targets with batches (answers)"
   ],
   "cell_type": "markdown",
   "metadata": {}
  },
  {
   "cell_type": "code",
   "execution_count": 24,
   "metadata": {},
   "outputs": [],
   "source": [
    "def preprocess_tragets(targets, word2int, batch_size):\n",
    "    left_side = tf.fill([batch_size, 1], word2int['<SOS>']) # (dims, values, name=None)\n",
    "    right_side = tf.strided_slice(targets, [0,0], [batch_size,-1], strides=[1,1]) # [batch_size,-1] : all lines except the last element\n",
    "    #(input_, begin, end, strides=None, begin_mask=0, end_mask=0, ellipsis_mask=0, new_axis_mask=0, shrink_axis_mask=0, var=None, name=None)\n",
    "    preprocessed_tragets = tf.concat([left_side, right_side], 1) # (values, axis, name='concat')\n",
    "    return preprocessed_tragets"
   ]
  },
  {
   "source": [
    "## Creating the encoder RNN layer"
   ],
   "cell_type": "markdown",
   "metadata": {}
  },
  {
   "cell_type": "code",
   "execution_count": 25,
   "metadata": {},
   "outputs": [],
   "source": [
    "def encoder_rnn(rnn_inputs, rnn_size, num_layers, keep_prob, sequence_length):\n",
    "    lstm = tf.contrib.rnn.BasicLSTMCell(rnn_size)\n",
    "    lstm_dropout = tf.contrib.rnn.DropoutWrapper(lstm, input_keep_prob=keep_prob)\n",
    "    encoder_cell = tf.contrib.rnn.MultiRNNCell([lstm_dropout] * num_layers )\n",
    "#   _ -> encoder output\n",
    "    _, encoder_state = tf.nn.bidirectional_dynamic_rnn(\n",
    "        cell_fw=encoder_cell,\n",
    "        cell_bw=encoder_cell,\n",
    "        sequence_length=sequence_length,\n",
    "        inputs=rnn_inputs,\n",
    "        dtype=tf.float32\n",
    "        ) # Creates a dynamic version of bidirectional recurrent neural network\n",
    "    return encoder_state"
   ]
  },
  {
   "source": [
    "## Decoding the training set"
   ],
   "cell_type": "markdown",
   "metadata": {}
  },
  {
   "cell_type": "code",
   "execution_count": 26,
   "metadata": {},
   "outputs": [],
   "source": [
    "def decode_training_set(\n",
    "    encoder_state, \n",
    "    decoder_cell, \n",
    "    decoder_embedded_input, \n",
    "    sequence_length, \n",
    "    decoding_scope,\n",
    "    output_function,\n",
    "    keep_prob,\n",
    "    batch_size):\n",
    "\n",
    "    attention_states = tf.zeros([batch_size, 1, decoder_cell.output_size])\n",
    "    attention_keys, attention_values, attention_score_function, attention_construct_function = tf.contrib.seq2seq.prepare_attention(\n",
    "        attention_states,\n",
    "        attention_option='bahdanau',\n",
    "        num_units=decoder_cell.output_size\n",
    "    )\n",
    "    training_decoder_function = tf.contrib.seq2seq.attention_decoder_fn_train(\n",
    "        encoder_state[0],\n",
    "        attention_keys,\n",
    "        attention_values,\n",
    "        attention_score_function,\n",
    "        attention_construct_function,\n",
    "        name='attn_dec_train'\n",
    "    )\n",
    "    #               _,   -> decoder final state\n",
    "    #                , _ -> decoder final context state\n",
    "    decoder_output, _, _ = tf.contrib.seq2seq.dynamic_rnn_decoder(\n",
    "        decoder_cell, \n",
    "        training_decoder_function, \n",
    "        decoder_embedded_input, \n",
    "        sequence_length,\n",
    "        scope = decoding_scope,\n",
    "    )\n",
    "    decoder_output_dropout = tf.nn.dropout(decoder_output, keep_prob)\n",
    "    return output_function(decoder_output_dropout)"
   ]
  },
  {
   "source": [
    "## Decoding the test/validation set"
   ],
   "cell_type": "markdown",
   "metadata": {}
  },
  {
   "cell_type": "code",
   "execution_count": 27,
   "metadata": {},
   "outputs": [],
   "source": [
    "def decode_test_set(\n",
    "    encoder_state, \n",
    "    decoder_cell, \n",
    "    decoder_embeddings_matrix,\n",
    "    sos_id,\n",
    "    eos_id,\n",
    "    maxumum_length,\n",
    "    num_words,\n",
    "    sequence_length, \n",
    "    decoding_scope,\n",
    "    output_function,\n",
    "    keep_prob,\n",
    "    batch_size):\n",
    "\n",
    "    attention_states = tf.zeros([batch_size, 1, decoder_cell.output_size])\n",
    "    attention_keys, attention_values, attention_score_function, attention_construct_function = tf.contrib.seq2seq.prepare_attention(\n",
    "        attention_states,\n",
    "        attention_option='bahdanau',\n",
    "        num_units=decoder_cell.output_size\n",
    "    )\n",
    "    test_decoder_function = tf.contrib.seq2seq.attention_decoder_fn_inference(\n",
    "        output_function,\n",
    "        encoder_state[0],\n",
    "        attention_keys,\n",
    "        attention_values,\n",
    "        attention_score_function,\n",
    "        attention_construct_function,\n",
    "        decoder_embeddings_matrix,\n",
    "        sos_id,\n",
    "        eos_id,\n",
    "        maxumum_length,\n",
    "        num_words,\n",
    "        name='attn_dec_inf'\n",
    "    )\n",
    "    #                  ______ decoder final state\n",
    "    #                 |   ___ decoder final context state\n",
    "    #                 |  |\n",
    "    test_predictions, _, _ = tf.contrib.seq2seq.dynamic_rnn_decoder(\n",
    "        decoder_cell, \n",
    "        test_decoder_function, \n",
    "        scope = decoding_scope,\n",
    "    )\n",
    "\n",
    "    return test_predictions"
   ]
  },
  {
   "source": [
    "## Creating the decoder RNN"
   ],
   "cell_type": "markdown",
   "metadata": {}
  },
  {
   "cell_type": "code",
   "execution_count": 28,
   "metadata": {},
   "outputs": [],
   "source": [
    "def decoder_rnn(\n",
    "    decoder_embedded_input,\n",
    "    decoder_embedding_matrix,\n",
    "    encoder_state,\n",
    "    num_words,\n",
    "    sequence_length,\n",
    "    rnn_size,\n",
    "    num_layers,\n",
    "    word2int,\n",
    "    keep_prob,\n",
    "    batch_size\n",
    "    ):\n",
    "\n",
    "    with tf.variable_scope('decoding') as decoding_scope:\n",
    "\n",
    "        lstm = tf.contrib.rnn.BasicLSTMCell(rnn_size)\n",
    "        lstm_dropout = tf.contrib.rnn.DropoutWrapper(lstm, input_keep_prob=keep_prob)\n",
    "        decoder_cell = tf.contrib.rnn.MultiRNNCell([lstm_dropout] * num_layers )\n",
    "        weights = tf.truncated_normal_initializer(stddev=0.1) # stddev : standard deviation\n",
    "        biases = tf.zeros_initializer()\n",
    "        output_function = lambda x: tf.contrib.layers.fully_connected(\n",
    "            x,\n",
    "            num_words,\n",
    "            None,\n",
    "            scope=decoding_scope,\n",
    "            weights_initializer=weights,\n",
    "            biases_initializer=biases\n",
    "            )\n",
    "        training_predictions = decode_training_set(\n",
    "            encoder_state, \n",
    "            decoder_cell, \n",
    "            decoder_embedded_input, \n",
    "            sequence_length, \n",
    "            decoding_scope,\n",
    "            output_function,\n",
    "            keep_prob,\n",
    "            batch_size\n",
    "            )\n",
    "        decoding_scope.reuse_variables()\n",
    "        test_predictions = decode_test_set(\n",
    "            encoder_state, \n",
    "            decoder_cell, \n",
    "            decoder_embedding_matrix, \n",
    "            word2int['<SOS>'], \n",
    "            word2int['<EOS>'], \n",
    "            sequence_length - 1,\n",
    "            num_words, \n",
    "            sequence_length,\n",
    "            decoding_scope,\n",
    "            output_function,\n",
    "            keep_prob, \n",
    "            batch_size\n",
    "            )\n",
    "\n",
    "    return training_predictions, test_predictions"
   ]
  },
  {
   "source": [
    "## Building the seq2seq model"
   ],
   "cell_type": "markdown",
   "metadata": {}
  },
  {
   "cell_type": "code",
   "execution_count": 29,
   "metadata": {},
   "outputs": [],
   "source": [
    "def seq2seq_model(\n",
    "    inputs, \n",
    "    targets, \n",
    "    keep_prob, \n",
    "    batch_size, \n",
    "    sequence_length, \n",
    "    answers_num_words, \n",
    "    quections_num_words, \n",
    "    encoder_embedding_size,\n",
    "    decoder_embedding_size,\n",
    "    rnn_size,\n",
    "    num_layers,\n",
    "    questionsWords2ints):\n",
    "    \n",
    "    encoder_embedded_input = tf.contrib.layers.embed_sequence(\n",
    "        inputs,\n",
    "        answers_num_words + 1,\n",
    "        encoder_embedding_size,\n",
    "        initializer=tf.random_uniform_initializer(0,1)\n",
    "        )\n",
    "    \n",
    "    encoder_state = encoder_rnn(\n",
    "        encoder_embedded_input,\n",
    "        rnn_size,\n",
    "        num_layers,\n",
    "        keep_prob,\n",
    "        sequence_length\n",
    "    )\n",
    "\n",
    "    preprocessed_tragets = preprocess_tragets(targets, questionsWords2ints, batch_size)\n",
    "\n",
    "    decoder_embeddings_matrix = tf.Variable(tf.random_uniform([quections_num_words+1, decoder_embedding_size], 0, 1))\n",
    "\n",
    "    decoder_embedded_input = tf.nn.embedding_lookup(decoder_embeddings_matrix, preprocessed_tragets)\n",
    "\n",
    "    training_predictions, test_predictions = decoder_rnn(\n",
    "        decoder_embedded_input, \n",
    "        decoder_embeddings_matrix, \n",
    "        encoder_state, \n",
    "        quections_num_words, \n",
    "        sequence_length, \n",
    "        rnn_size, \n",
    "        num_layers, \n",
    "        questionsWords2ints, \n",
    "        keep_prob, \n",
    "        batch_size\n",
    "    )\n",
    "\n",
    "    return training_predictions, test_predictions"
   ]
  },
  {
   "source": [
    "# Part - 3 ( Training the seq2seq model )"
   ],
   "cell_type": "markdown",
   "metadata": {}
  },
  {
   "source": [
    "## Settings the hyper parameters"
   ],
   "cell_type": "markdown",
   "metadata": {}
  },
  {
   "cell_type": "code",
   "execution_count": 30,
   "metadata": {},
   "outputs": [],
   "source": [
    "epochs = 1 #100\n",
    "batch_size = 124 #64\n",
    "rnn_size = 512\n",
    "num_layers = 3\n",
    "encodeing_embedding_size = 512\n",
    "decoding_embedding_size = 512\n",
    "learning_rate = 0.01\n",
    "learning_rate_decay = 0.9 # 90%\n",
    "min_learning_rate = 0.0001\n",
    "keep_probability = 0.5"
   ]
  },
  {
   "source": [
    "## Definition a session"
   ],
   "cell_type": "markdown",
   "metadata": {}
  },
  {
   "cell_type": "code",
   "execution_count": 31,
   "metadata": {},
   "outputs": [],
   "source": [
    "tf.reset_default_graph()\n",
    "session = tf.InteractiveSession()"
   ]
  },
  {
   "source": [
    "## Loading the model inputs"
   ],
   "cell_type": "markdown",
   "metadata": {}
  },
  {
   "cell_type": "code",
   "execution_count": 32,
   "metadata": {},
   "outputs": [],
   "source": [
    "inputs, targets, lr, keep_prob = model_inputs()"
   ]
  },
  {
   "source": [
    "## Setting the sequence length "
   ],
   "cell_type": "markdown",
   "metadata": {}
  },
  {
   "cell_type": "code",
   "execution_count": 33,
   "metadata": {},
   "outputs": [],
   "source": [
    "sequence_length = tf.placeholder_with_default(25, None, name='sequence_length')"
   ]
  },
  {
   "source": [
    "## Getting the shape of the inputs tensor"
   ],
   "cell_type": "markdown",
   "metadata": {}
  },
  {
   "cell_type": "code",
   "execution_count": 34,
   "metadata": {},
   "outputs": [],
   "source": [
    "input_shape = tf.shape(inputs)"
   ]
  },
  {
   "source": [
    "## Getting the training and test predictions"
   ],
   "cell_type": "markdown",
   "metadata": {}
  },
  {
   "cell_type": "code",
   "execution_count": 35,
   "metadata": {},
   "outputs": [],
   "source": [
    "training_predictions, test_predictions = seq2seq_model(\n",
    "    tf.reverse(inputs, [-1]),\n",
    "    targets,\n",
    "    keep_prob,\n",
    "    batch_size,\n",
    "    sequence_length,\n",
    "    len(answersWords2ints),\n",
    "    len(questionsWords2ints),\n",
    "    encodeing_embedding_size,\n",
    "    decoding_embedding_size,\n",
    "    rnn_size,\n",
    "    num_layers,\n",
    "    questionsWords2ints\n",
    ")"
   ]
  },
  {
   "source": [
    "## Setting up the loss error, the optimizer and gradient clipping"
   ],
   "cell_type": "markdown",
   "metadata": {}
  },
  {
   "cell_type": "code",
   "execution_count": null,
   "metadata": {},
   "outputs": [],
   "source": []
  }
 ]
}